{
 "cells": [
  {
   "cell_type": "code",
   "execution_count": null,
   "metadata": {},
   "outputs": [
    {
     "ename": "",
     "evalue": "",
     "output_type": "error",
     "traceback": [
      "\u001b[1;31m'lambda_app'(으)로 셀을 실행하려면 ipykernel 패키지가 필요합니다.\n",
      "\u001b[1;31m다음 명령어를 실행하여 Python 환경에 'ipykernel'을(를) 설치합니다. \n",
      "\u001b[1;31m 명령: 'conda install -n lambda_app ipykernel --update-deps --force-reinstall'"
     ]
    }
   ],
   "source": [
    "\"\"\"\n",
    "판다스(pandas)는 데이터 분석과 관련된 기능을 제공하는 파이썬 라이브러리입니다.\n",
    "다양한 기능들 중에서, 일부 함수들을 예제와 함께 설명해드리겠습니다.\n",
    "\"\"\"\n",
    "\n",
    "\n",
    "\"\"\"\n",
    "1. groupby(): 데이터프레임을 그룹화하고, 각 그룹에 대한 연산을 수행하는 함수입니다.\n",
    "아래 코드는 df 데이터프레임을 'column1' 값을 기준으로 그룹화하고,\n",
    "그룹별 'column2' 값의 평균을 구하는 예제입니다.\n",
    "\"\"\"\n",
    "import pandas as pd\n",
    "\n",
    "df = pd.DataFrame({'column1': ['A', 'A', 'B', 'B'], 'column2': [1, 2, 3, 4]})\n",
    "grouped_df = df.groupby('column1').mean()\n",
    "print(df)\n",
    "print('ㅡㅡㅡㅡㅡㅡㅡㅡㅡ')\n",
    "print(grouped_df)\n",
    "print('ㅡㅡㅡㅡㅡㅡㅡㅡㅡ')\n",
    "print(df.groupby('column1').agg(['mean', 'var'])) # 다중 통계량 구하기"
   ]
  },
  {
   "cell_type": "code",
   "execution_count": 2,
   "metadata": {},
   "outputs": [
    {
     "name": "stdout",
     "output_type": "stream",
     "text": [
      "Empty DataFrame\n",
      "Columns: [column1, column2]\n",
      "Index: []\n"
     ]
    }
   ],
   "source": [
    "# 문자열로 된 인덱스만 확인하는 방법\n",
    "import pandas as pd\n",
    "df = pd.DataFrame({'column1': ['A', 'A', 'B', 'B'], 'column2': [1, 2, 3, 4]}, index=['1', '2', '3', '4'])\n",
    "\n",
    "# 문자열로 된 값을 찾기 위해 column2를 문자열 타입으로 변환한 후 비교합니다.\n",
    "string_values = df[df['column2'].apply(lambda x: isinstance(x, str))]\n",
    "print(string_values)"
   ]
  }
 ],
 "metadata": {
  "kernelspec": {
   "display_name": "app_dash",
   "language": "python",
   "name": "python3"
  },
  "language_info": {
   "codemirror_mode": {
    "name": "ipython",
    "version": 3
   },
   "file_extension": ".py",
   "mimetype": "text/x-python",
   "name": "python",
   "nbconvert_exporter": "python",
   "pygments_lexer": "ipython3",
   "version": "3.10.0"
  },
  "orig_nbformat": 4
 },
 "nbformat": 4,
 "nbformat_minor": 2
}
