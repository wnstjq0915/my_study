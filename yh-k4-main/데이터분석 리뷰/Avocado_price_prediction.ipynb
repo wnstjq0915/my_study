{
  "cells": [
    {
      "cell_type": "code",
      "execution_count": 38,
      "metadata": {
        "id": "kp3vC-zBXfy4"
      },
      "outputs": [],
      "source": [
        "import numpy as np\n",
        "import pandas as pd"
      ]
    },
    {
      "cell_type": "code",
      "execution_count": 39,
      "metadata": {
        "id": "Z_sO5FCFXrD3"
      },
      "outputs": [],
      "source": [
        "df = pd.read_csv('../data/avocado.csv', index_col = 0)"
      ]
    },
    {
      "cell_type": "code",
      "execution_count": 40,
      "metadata": {
        "colab": {
          "base_uri": "https://localhost:8080/",
          "height": 679
        },
        "id": "CxOiwUR0XrBX",
        "outputId": "f5f1c062-dd7f-42a6-d273-d7fd99d98fdf"
      },
      "outputs": [
        {
          "data": {
            "text/html": [
              "<div>\n",
              "<style scoped>\n",
              "    .dataframe tbody tr th:only-of-type {\n",
              "        vertical-align: middle;\n",
              "    }\n",
              "\n",
              "    .dataframe tbody tr th {\n",
              "        vertical-align: top;\n",
              "    }\n",
              "\n",
              "    .dataframe thead th {\n",
              "        text-align: right;\n",
              "    }\n",
              "</style>\n",
              "<table border=\"1\" class=\"dataframe\">\n",
              "  <thead>\n",
              "    <tr style=\"text-align: right;\">\n",
              "      <th></th>\n",
              "      <th>Date</th>\n",
              "      <th>AveragePrice</th>\n",
              "      <th>Total Volume</th>\n",
              "      <th>4046</th>\n",
              "      <th>4225</th>\n",
              "      <th>4770</th>\n",
              "      <th>Total Bags</th>\n",
              "      <th>Small Bags</th>\n",
              "      <th>Large Bags</th>\n",
              "      <th>XLarge Bags</th>\n",
              "      <th>type</th>\n",
              "      <th>year</th>\n",
              "      <th>region</th>\n",
              "    </tr>\n",
              "  </thead>\n",
              "  <tbody>\n",
              "    <tr>\n",
              "      <th>0</th>\n",
              "      <td>2015-12-27</td>\n",
              "      <td>1.33</td>\n",
              "      <td>64236.62</td>\n",
              "      <td>1036.74</td>\n",
              "      <td>54454.85</td>\n",
              "      <td>48.16</td>\n",
              "      <td>8696.87</td>\n",
              "      <td>8603.62</td>\n",
              "      <td>93.25</td>\n",
              "      <td>0.0</td>\n",
              "      <td>conventional</td>\n",
              "      <td>2015</td>\n",
              "      <td>Albany</td>\n",
              "    </tr>\n",
              "    <tr>\n",
              "      <th>1</th>\n",
              "      <td>2015-12-20</td>\n",
              "      <td>1.35</td>\n",
              "      <td>54876.98</td>\n",
              "      <td>674.28</td>\n",
              "      <td>44638.81</td>\n",
              "      <td>58.33</td>\n",
              "      <td>9505.56</td>\n",
              "      <td>9408.07</td>\n",
              "      <td>97.49</td>\n",
              "      <td>0.0</td>\n",
              "      <td>conventional</td>\n",
              "      <td>2015</td>\n",
              "      <td>Albany</td>\n",
              "    </tr>\n",
              "    <tr>\n",
              "      <th>2</th>\n",
              "      <td>2015-12-13</td>\n",
              "      <td>0.93</td>\n",
              "      <td>118220.22</td>\n",
              "      <td>794.70</td>\n",
              "      <td>109149.67</td>\n",
              "      <td>130.50</td>\n",
              "      <td>8145.35</td>\n",
              "      <td>8042.21</td>\n",
              "      <td>103.14</td>\n",
              "      <td>0.0</td>\n",
              "      <td>conventional</td>\n",
              "      <td>2015</td>\n",
              "      <td>Albany</td>\n",
              "    </tr>\n",
              "    <tr>\n",
              "      <th>3</th>\n",
              "      <td>2015-12-06</td>\n",
              "      <td>1.08</td>\n",
              "      <td>78992.15</td>\n",
              "      <td>1132.00</td>\n",
              "      <td>71976.41</td>\n",
              "      <td>72.58</td>\n",
              "      <td>5811.16</td>\n",
              "      <td>5677.40</td>\n",
              "      <td>133.76</td>\n",
              "      <td>0.0</td>\n",
              "      <td>conventional</td>\n",
              "      <td>2015</td>\n",
              "      <td>Albany</td>\n",
              "    </tr>\n",
              "    <tr>\n",
              "      <th>4</th>\n",
              "      <td>2015-11-29</td>\n",
              "      <td>1.28</td>\n",
              "      <td>51039.60</td>\n",
              "      <td>941.48</td>\n",
              "      <td>43838.39</td>\n",
              "      <td>75.78</td>\n",
              "      <td>6183.95</td>\n",
              "      <td>5986.26</td>\n",
              "      <td>197.69</td>\n",
              "      <td>0.0</td>\n",
              "      <td>conventional</td>\n",
              "      <td>2015</td>\n",
              "      <td>Albany</td>\n",
              "    </tr>\n",
              "    <tr>\n",
              "      <th>...</th>\n",
              "      <td>...</td>\n",
              "      <td>...</td>\n",
              "      <td>...</td>\n",
              "      <td>...</td>\n",
              "      <td>...</td>\n",
              "      <td>...</td>\n",
              "      <td>...</td>\n",
              "      <td>...</td>\n",
              "      <td>...</td>\n",
              "      <td>...</td>\n",
              "      <td>...</td>\n",
              "      <td>...</td>\n",
              "      <td>...</td>\n",
              "    </tr>\n",
              "    <tr>\n",
              "      <th>7</th>\n",
              "      <td>2018-02-04</td>\n",
              "      <td>1.63</td>\n",
              "      <td>17074.83</td>\n",
              "      <td>2046.96</td>\n",
              "      <td>1529.20</td>\n",
              "      <td>0.00</td>\n",
              "      <td>13498.67</td>\n",
              "      <td>13066.82</td>\n",
              "      <td>431.85</td>\n",
              "      <td>0.0</td>\n",
              "      <td>organic</td>\n",
              "      <td>2018</td>\n",
              "      <td>WestTexNewMexico</td>\n",
              "    </tr>\n",
              "    <tr>\n",
              "      <th>8</th>\n",
              "      <td>2018-01-28</td>\n",
              "      <td>1.71</td>\n",
              "      <td>13888.04</td>\n",
              "      <td>1191.70</td>\n",
              "      <td>3431.50</td>\n",
              "      <td>0.00</td>\n",
              "      <td>9264.84</td>\n",
              "      <td>8940.04</td>\n",
              "      <td>324.80</td>\n",
              "      <td>0.0</td>\n",
              "      <td>organic</td>\n",
              "      <td>2018</td>\n",
              "      <td>WestTexNewMexico</td>\n",
              "    </tr>\n",
              "    <tr>\n",
              "      <th>9</th>\n",
              "      <td>2018-01-21</td>\n",
              "      <td>1.87</td>\n",
              "      <td>13766.76</td>\n",
              "      <td>1191.92</td>\n",
              "      <td>2452.79</td>\n",
              "      <td>727.94</td>\n",
              "      <td>9394.11</td>\n",
              "      <td>9351.80</td>\n",
              "      <td>42.31</td>\n",
              "      <td>0.0</td>\n",
              "      <td>organic</td>\n",
              "      <td>2018</td>\n",
              "      <td>WestTexNewMexico</td>\n",
              "    </tr>\n",
              "    <tr>\n",
              "      <th>10</th>\n",
              "      <td>2018-01-14</td>\n",
              "      <td>1.93</td>\n",
              "      <td>16205.22</td>\n",
              "      <td>1527.63</td>\n",
              "      <td>2981.04</td>\n",
              "      <td>727.01</td>\n",
              "      <td>10969.54</td>\n",
              "      <td>10919.54</td>\n",
              "      <td>50.00</td>\n",
              "      <td>0.0</td>\n",
              "      <td>organic</td>\n",
              "      <td>2018</td>\n",
              "      <td>WestTexNewMexico</td>\n",
              "    </tr>\n",
              "    <tr>\n",
              "      <th>11</th>\n",
              "      <td>2018-01-07</td>\n",
              "      <td>1.62</td>\n",
              "      <td>17489.58</td>\n",
              "      <td>2894.77</td>\n",
              "      <td>2356.13</td>\n",
              "      <td>224.53</td>\n",
              "      <td>12014.15</td>\n",
              "      <td>11988.14</td>\n",
              "      <td>26.01</td>\n",
              "      <td>0.0</td>\n",
              "      <td>organic</td>\n",
              "      <td>2018</td>\n",
              "      <td>WestTexNewMexico</td>\n",
              "    </tr>\n",
              "  </tbody>\n",
              "</table>\n",
              "<p>18249 rows × 13 columns</p>\n",
              "</div>"
            ],
            "text/plain": [
              "          Date  AveragePrice  Total Volume     4046       4225    4770  \\\n",
              "0   2015-12-27          1.33      64236.62  1036.74   54454.85   48.16   \n",
              "1   2015-12-20          1.35      54876.98   674.28   44638.81   58.33   \n",
              "2   2015-12-13          0.93     118220.22   794.70  109149.67  130.50   \n",
              "3   2015-12-06          1.08      78992.15  1132.00   71976.41   72.58   \n",
              "4   2015-11-29          1.28      51039.60   941.48   43838.39   75.78   \n",
              "..         ...           ...           ...      ...        ...     ...   \n",
              "7   2018-02-04          1.63      17074.83  2046.96    1529.20    0.00   \n",
              "8   2018-01-28          1.71      13888.04  1191.70    3431.50    0.00   \n",
              "9   2018-01-21          1.87      13766.76  1191.92    2452.79  727.94   \n",
              "10  2018-01-14          1.93      16205.22  1527.63    2981.04  727.01   \n",
              "11  2018-01-07          1.62      17489.58  2894.77    2356.13  224.53   \n",
              "\n",
              "    Total Bags  Small Bags  Large Bags  XLarge Bags          type  year  \\\n",
              "0      8696.87     8603.62       93.25          0.0  conventional  2015   \n",
              "1      9505.56     9408.07       97.49          0.0  conventional  2015   \n",
              "2      8145.35     8042.21      103.14          0.0  conventional  2015   \n",
              "3      5811.16     5677.40      133.76          0.0  conventional  2015   \n",
              "4      6183.95     5986.26      197.69          0.0  conventional  2015   \n",
              "..         ...         ...         ...          ...           ...   ...   \n",
              "7     13498.67    13066.82      431.85          0.0       organic  2018   \n",
              "8      9264.84     8940.04      324.80          0.0       organic  2018   \n",
              "9      9394.11     9351.80       42.31          0.0       organic  2018   \n",
              "10    10969.54    10919.54       50.00          0.0       organic  2018   \n",
              "11    12014.15    11988.14       26.01          0.0       organic  2018   \n",
              "\n",
              "              region  \n",
              "0             Albany  \n",
              "1             Albany  \n",
              "2             Albany  \n",
              "3             Albany  \n",
              "4             Albany  \n",
              "..               ...  \n",
              "7   WestTexNewMexico  \n",
              "8   WestTexNewMexico  \n",
              "9   WestTexNewMexico  \n",
              "10  WestTexNewMexico  \n",
              "11  WestTexNewMexico  \n",
              "\n",
              "[18249 rows x 13 columns]"
            ]
          },
          "execution_count": 40,
          "metadata": {},
          "output_type": "execute_result"
        }
      ],
      "source": [
        "df"
      ]
    },
    {
      "cell_type": "code",
      "execution_count": 41,
      "metadata": {
        "id": "_C3dcjlvXq-v"
      },
      "outputs": [],
      "source": [
        "# 날짜가 뒤죽박죽이니까, 날짜로 정렬"
      ]
    },
    {
      "cell_type": "code",
      "execution_count": 42,
      "metadata": {
        "id": "jhblcXJ3Xq7w"
      },
      "outputs": [],
      "source": [
        "df.sort_values('Date', inplace= True)"
      ]
    },
    {
      "cell_type": "code",
      "execution_count": 43,
      "metadata": {
        "colab": {
          "base_uri": "https://localhost:8080/",
          "height": 374
        },
        "id": "2h-qNGpsXq44",
        "outputId": "6bf802f2-3e4f-4830-bd88-59a61c61cd92"
      },
      "outputs": [
        {
          "data": {
            "text/html": [
              "<div>\n",
              "<style scoped>\n",
              "    .dataframe tbody tr th:only-of-type {\n",
              "        vertical-align: middle;\n",
              "    }\n",
              "\n",
              "    .dataframe tbody tr th {\n",
              "        vertical-align: top;\n",
              "    }\n",
              "\n",
              "    .dataframe thead th {\n",
              "        text-align: right;\n",
              "    }\n",
              "</style>\n",
              "<table border=\"1\" class=\"dataframe\">\n",
              "  <thead>\n",
              "    <tr style=\"text-align: right;\">\n",
              "      <th></th>\n",
              "      <th>Date</th>\n",
              "      <th>AveragePrice</th>\n",
              "      <th>Total Volume</th>\n",
              "      <th>4046</th>\n",
              "      <th>4225</th>\n",
              "      <th>4770</th>\n",
              "      <th>Total Bags</th>\n",
              "      <th>Small Bags</th>\n",
              "      <th>Large Bags</th>\n",
              "      <th>XLarge Bags</th>\n",
              "      <th>type</th>\n",
              "      <th>year</th>\n",
              "      <th>region</th>\n",
              "    </tr>\n",
              "  </thead>\n",
              "  <tbody>\n",
              "    <tr>\n",
              "      <th>51</th>\n",
              "      <td>2015-01-04</td>\n",
              "      <td>1.75</td>\n",
              "      <td>27365.89</td>\n",
              "      <td>9307.34</td>\n",
              "      <td>3844.81</td>\n",
              "      <td>615.28</td>\n",
              "      <td>13598.46</td>\n",
              "      <td>13061.10</td>\n",
              "      <td>537.36</td>\n",
              "      <td>0.0</td>\n",
              "      <td>organic</td>\n",
              "      <td>2015</td>\n",
              "      <td>Southeast</td>\n",
              "    </tr>\n",
              "    <tr>\n",
              "      <th>51</th>\n",
              "      <td>2015-01-04</td>\n",
              "      <td>1.49</td>\n",
              "      <td>17723.17</td>\n",
              "      <td>1189.35</td>\n",
              "      <td>15628.27</td>\n",
              "      <td>0.00</td>\n",
              "      <td>905.55</td>\n",
              "      <td>905.55</td>\n",
              "      <td>0.00</td>\n",
              "      <td>0.0</td>\n",
              "      <td>organic</td>\n",
              "      <td>2015</td>\n",
              "      <td>Chicago</td>\n",
              "    </tr>\n",
              "    <tr>\n",
              "      <th>51</th>\n",
              "      <td>2015-01-04</td>\n",
              "      <td>1.68</td>\n",
              "      <td>2896.72</td>\n",
              "      <td>161.68</td>\n",
              "      <td>206.96</td>\n",
              "      <td>0.00</td>\n",
              "      <td>2528.08</td>\n",
              "      <td>2528.08</td>\n",
              "      <td>0.00</td>\n",
              "      <td>0.0</td>\n",
              "      <td>organic</td>\n",
              "      <td>2015</td>\n",
              "      <td>HarrisburgScranton</td>\n",
              "    </tr>\n",
              "    <tr>\n",
              "      <th>51</th>\n",
              "      <td>2015-01-04</td>\n",
              "      <td>1.52</td>\n",
              "      <td>54956.80</td>\n",
              "      <td>3013.04</td>\n",
              "      <td>35456.88</td>\n",
              "      <td>1561.70</td>\n",
              "      <td>14925.18</td>\n",
              "      <td>11264.80</td>\n",
              "      <td>3660.38</td>\n",
              "      <td>0.0</td>\n",
              "      <td>conventional</td>\n",
              "      <td>2015</td>\n",
              "      <td>Pittsburgh</td>\n",
              "    </tr>\n",
              "    <tr>\n",
              "      <th>51</th>\n",
              "      <td>2015-01-04</td>\n",
              "      <td>1.64</td>\n",
              "      <td>1505.12</td>\n",
              "      <td>1.27</td>\n",
              "      <td>1129.50</td>\n",
              "      <td>0.00</td>\n",
              "      <td>374.35</td>\n",
              "      <td>186.67</td>\n",
              "      <td>187.68</td>\n",
              "      <td>0.0</td>\n",
              "      <td>organic</td>\n",
              "      <td>2015</td>\n",
              "      <td>Boise</td>\n",
              "    </tr>\n",
              "  </tbody>\n",
              "</table>\n",
              "</div>"
            ],
            "text/plain": [
              "          Date  AveragePrice  Total Volume     4046      4225     4770  \\\n",
              "51  2015-01-04          1.75      27365.89  9307.34   3844.81   615.28   \n",
              "51  2015-01-04          1.49      17723.17  1189.35  15628.27     0.00   \n",
              "51  2015-01-04          1.68       2896.72   161.68    206.96     0.00   \n",
              "51  2015-01-04          1.52      54956.80  3013.04  35456.88  1561.70   \n",
              "51  2015-01-04          1.64       1505.12     1.27   1129.50     0.00   \n",
              "\n",
              "    Total Bags  Small Bags  Large Bags  XLarge Bags          type  year  \\\n",
              "51    13598.46    13061.10      537.36          0.0       organic  2015   \n",
              "51      905.55      905.55        0.00          0.0       organic  2015   \n",
              "51     2528.08     2528.08        0.00          0.0       organic  2015   \n",
              "51    14925.18    11264.80     3660.38          0.0  conventional  2015   \n",
              "51      374.35      186.67      187.68          0.0       organic  2015   \n",
              "\n",
              "                region  \n",
              "51           Southeast  \n",
              "51             Chicago  \n",
              "51  HarrisburgScranton  \n",
              "51          Pittsburgh  \n",
              "51               Boise  "
            ]
          },
          "execution_count": 43,
          "metadata": {},
          "output_type": "execute_result"
        }
      ],
      "source": [
        "df.head()"
      ]
    },
    {
      "cell_type": "code",
      "execution_count": 44,
      "metadata": {
        "colab": {
          "base_uri": "https://localhost:8080/",
          "height": 374
        },
        "id": "PVfGm4MGZxOP",
        "outputId": "5cccf151-66c5-48cb-8582-eda8a570f605"
      },
      "outputs": [
        {
          "data": {
            "text/html": [
              "<div>\n",
              "<style scoped>\n",
              "    .dataframe tbody tr th:only-of-type {\n",
              "        vertical-align: middle;\n",
              "    }\n",
              "\n",
              "    .dataframe tbody tr th {\n",
              "        vertical-align: top;\n",
              "    }\n",
              "\n",
              "    .dataframe thead th {\n",
              "        text-align: right;\n",
              "    }\n",
              "</style>\n",
              "<table border=\"1\" class=\"dataframe\">\n",
              "  <thead>\n",
              "    <tr style=\"text-align: right;\">\n",
              "      <th></th>\n",
              "      <th>Date</th>\n",
              "      <th>AveragePrice</th>\n",
              "      <th>Total Volume</th>\n",
              "      <th>4046</th>\n",
              "      <th>4225</th>\n",
              "      <th>4770</th>\n",
              "      <th>Total Bags</th>\n",
              "      <th>Small Bags</th>\n",
              "      <th>Large Bags</th>\n",
              "      <th>XLarge Bags</th>\n",
              "      <th>type</th>\n",
              "      <th>year</th>\n",
              "      <th>region</th>\n",
              "    </tr>\n",
              "  </thead>\n",
              "  <tbody>\n",
              "    <tr>\n",
              "      <th>0</th>\n",
              "      <td>2018-03-25</td>\n",
              "      <td>1.36</td>\n",
              "      <td>908202.13</td>\n",
              "      <td>142681.06</td>\n",
              "      <td>463136.28</td>\n",
              "      <td>174975.75</td>\n",
              "      <td>127409.04</td>\n",
              "      <td>103579.41</td>\n",
              "      <td>22467.04</td>\n",
              "      <td>1362.59</td>\n",
              "      <td>conventional</td>\n",
              "      <td>2018</td>\n",
              "      <td>Chicago</td>\n",
              "    </tr>\n",
              "    <tr>\n",
              "      <th>0</th>\n",
              "      <td>2018-03-25</td>\n",
              "      <td>0.70</td>\n",
              "      <td>9010588.32</td>\n",
              "      <td>3999735.71</td>\n",
              "      <td>966589.50</td>\n",
              "      <td>30130.82</td>\n",
              "      <td>4014132.29</td>\n",
              "      <td>3398569.92</td>\n",
              "      <td>546409.74</td>\n",
              "      <td>69152.63</td>\n",
              "      <td>conventional</td>\n",
              "      <td>2018</td>\n",
              "      <td>SouthCentral</td>\n",
              "    </tr>\n",
              "    <tr>\n",
              "      <th>0</th>\n",
              "      <td>2018-03-25</td>\n",
              "      <td>1.42</td>\n",
              "      <td>163496.70</td>\n",
              "      <td>29253.30</td>\n",
              "      <td>5080.04</td>\n",
              "      <td>0.00</td>\n",
              "      <td>129163.36</td>\n",
              "      <td>109052.26</td>\n",
              "      <td>20111.10</td>\n",
              "      <td>0.00</td>\n",
              "      <td>organic</td>\n",
              "      <td>2018</td>\n",
              "      <td>SouthCentral</td>\n",
              "    </tr>\n",
              "    <tr>\n",
              "      <th>0</th>\n",
              "      <td>2018-03-25</td>\n",
              "      <td>1.70</td>\n",
              "      <td>190257.38</td>\n",
              "      <td>29644.09</td>\n",
              "      <td>70982.10</td>\n",
              "      <td>0.00</td>\n",
              "      <td>89631.19</td>\n",
              "      <td>89424.11</td>\n",
              "      <td>207.08</td>\n",
              "      <td>0.00</td>\n",
              "      <td>organic</td>\n",
              "      <td>2018</td>\n",
              "      <td>California</td>\n",
              "    </tr>\n",
              "    <tr>\n",
              "      <th>0</th>\n",
              "      <td>2018-03-25</td>\n",
              "      <td>1.34</td>\n",
              "      <td>1774776.77</td>\n",
              "      <td>63905.98</td>\n",
              "      <td>908653.71</td>\n",
              "      <td>843.45</td>\n",
              "      <td>801373.63</td>\n",
              "      <td>774634.09</td>\n",
              "      <td>23833.93</td>\n",
              "      <td>2905.61</td>\n",
              "      <td>conventional</td>\n",
              "      <td>2018</td>\n",
              "      <td>NewYork</td>\n",
              "    </tr>\n",
              "  </tbody>\n",
              "</table>\n",
              "</div>"
            ],
            "text/plain": [
              "         Date  AveragePrice  Total Volume        4046       4225       4770  \\\n",
              "0  2018-03-25          1.36     908202.13   142681.06  463136.28  174975.75   \n",
              "0  2018-03-25          0.70    9010588.32  3999735.71  966589.50   30130.82   \n",
              "0  2018-03-25          1.42     163496.70    29253.30    5080.04       0.00   \n",
              "0  2018-03-25          1.70     190257.38    29644.09   70982.10       0.00   \n",
              "0  2018-03-25          1.34    1774776.77    63905.98  908653.71     843.45   \n",
              "\n",
              "   Total Bags  Small Bags  Large Bags  XLarge Bags          type  year  \\\n",
              "0   127409.04   103579.41    22467.04      1362.59  conventional  2018   \n",
              "0  4014132.29  3398569.92   546409.74     69152.63  conventional  2018   \n",
              "0   129163.36   109052.26    20111.10         0.00       organic  2018   \n",
              "0    89631.19    89424.11      207.08         0.00       organic  2018   \n",
              "0   801373.63   774634.09    23833.93      2905.61  conventional  2018   \n",
              "\n",
              "         region  \n",
              "0       Chicago  \n",
              "0  SouthCentral  \n",
              "0  SouthCentral  \n",
              "0    California  \n",
              "0       NewYork  "
            ]
          },
          "execution_count": 44,
          "metadata": {},
          "output_type": "execute_result"
        }
      ],
      "source": [
        "df.tail()"
      ]
    },
    {
      "cell_type": "code",
      "execution_count": 45,
      "metadata": {
        "id": "-2BA2B2HZxLn"
      },
      "outputs": [],
      "source": [
        "# 날짜별로 아보카도 가격이 어떻게 변하는지, 차트로 표시"
      ]
    },
    {
      "cell_type": "code",
      "execution_count": 46,
      "metadata": {
        "colab": {
          "base_uri": "https://localhost:8080/",
          "height": 679
        },
        "id": "tk04NbcWZxIo",
        "outputId": "b2809b70-d220-4f63-8c51-f420f5e428b6"
      },
      "outputs": [
        {
          "data": {
            "text/html": [
              "<div>\n",
              "<style scoped>\n",
              "    .dataframe tbody tr th:only-of-type {\n",
              "        vertical-align: middle;\n",
              "    }\n",
              "\n",
              "    .dataframe tbody tr th {\n",
              "        vertical-align: top;\n",
              "    }\n",
              "\n",
              "    .dataframe thead th {\n",
              "        text-align: right;\n",
              "    }\n",
              "</style>\n",
              "<table border=\"1\" class=\"dataframe\">\n",
              "  <thead>\n",
              "    <tr style=\"text-align: right;\">\n",
              "      <th></th>\n",
              "      <th>Date</th>\n",
              "      <th>AveragePrice</th>\n",
              "      <th>Total Volume</th>\n",
              "      <th>4046</th>\n",
              "      <th>4225</th>\n",
              "      <th>4770</th>\n",
              "      <th>Total Bags</th>\n",
              "      <th>Small Bags</th>\n",
              "      <th>Large Bags</th>\n",
              "      <th>XLarge Bags</th>\n",
              "      <th>type</th>\n",
              "      <th>year</th>\n",
              "      <th>region</th>\n",
              "    </tr>\n",
              "  </thead>\n",
              "  <tbody>\n",
              "    <tr>\n",
              "      <th>51</th>\n",
              "      <td>2015-01-04</td>\n",
              "      <td>1.75</td>\n",
              "      <td>27365.89</td>\n",
              "      <td>9307.34</td>\n",
              "      <td>3844.81</td>\n",
              "      <td>615.28</td>\n",
              "      <td>13598.46</td>\n",
              "      <td>13061.10</td>\n",
              "      <td>537.36</td>\n",
              "      <td>0.00</td>\n",
              "      <td>organic</td>\n",
              "      <td>2015</td>\n",
              "      <td>Southeast</td>\n",
              "    </tr>\n",
              "    <tr>\n",
              "      <th>51</th>\n",
              "      <td>2015-01-04</td>\n",
              "      <td>1.49</td>\n",
              "      <td>17723.17</td>\n",
              "      <td>1189.35</td>\n",
              "      <td>15628.27</td>\n",
              "      <td>0.00</td>\n",
              "      <td>905.55</td>\n",
              "      <td>905.55</td>\n",
              "      <td>0.00</td>\n",
              "      <td>0.00</td>\n",
              "      <td>organic</td>\n",
              "      <td>2015</td>\n",
              "      <td>Chicago</td>\n",
              "    </tr>\n",
              "    <tr>\n",
              "      <th>51</th>\n",
              "      <td>2015-01-04</td>\n",
              "      <td>1.68</td>\n",
              "      <td>2896.72</td>\n",
              "      <td>161.68</td>\n",
              "      <td>206.96</td>\n",
              "      <td>0.00</td>\n",
              "      <td>2528.08</td>\n",
              "      <td>2528.08</td>\n",
              "      <td>0.00</td>\n",
              "      <td>0.00</td>\n",
              "      <td>organic</td>\n",
              "      <td>2015</td>\n",
              "      <td>HarrisburgScranton</td>\n",
              "    </tr>\n",
              "    <tr>\n",
              "      <th>51</th>\n",
              "      <td>2015-01-04</td>\n",
              "      <td>1.52</td>\n",
              "      <td>54956.80</td>\n",
              "      <td>3013.04</td>\n",
              "      <td>35456.88</td>\n",
              "      <td>1561.70</td>\n",
              "      <td>14925.18</td>\n",
              "      <td>11264.80</td>\n",
              "      <td>3660.38</td>\n",
              "      <td>0.00</td>\n",
              "      <td>conventional</td>\n",
              "      <td>2015</td>\n",
              "      <td>Pittsburgh</td>\n",
              "    </tr>\n",
              "    <tr>\n",
              "      <th>51</th>\n",
              "      <td>2015-01-04</td>\n",
              "      <td>1.64</td>\n",
              "      <td>1505.12</td>\n",
              "      <td>1.27</td>\n",
              "      <td>1129.50</td>\n",
              "      <td>0.00</td>\n",
              "      <td>374.35</td>\n",
              "      <td>186.67</td>\n",
              "      <td>187.68</td>\n",
              "      <td>0.00</td>\n",
              "      <td>organic</td>\n",
              "      <td>2015</td>\n",
              "      <td>Boise</td>\n",
              "    </tr>\n",
              "    <tr>\n",
              "      <th>...</th>\n",
              "      <td>...</td>\n",
              "      <td>...</td>\n",
              "      <td>...</td>\n",
              "      <td>...</td>\n",
              "      <td>...</td>\n",
              "      <td>...</td>\n",
              "      <td>...</td>\n",
              "      <td>...</td>\n",
              "      <td>...</td>\n",
              "      <td>...</td>\n",
              "      <td>...</td>\n",
              "      <td>...</td>\n",
              "      <td>...</td>\n",
              "    </tr>\n",
              "    <tr>\n",
              "      <th>0</th>\n",
              "      <td>2018-03-25</td>\n",
              "      <td>1.36</td>\n",
              "      <td>908202.13</td>\n",
              "      <td>142681.06</td>\n",
              "      <td>463136.28</td>\n",
              "      <td>174975.75</td>\n",
              "      <td>127409.04</td>\n",
              "      <td>103579.41</td>\n",
              "      <td>22467.04</td>\n",
              "      <td>1362.59</td>\n",
              "      <td>conventional</td>\n",
              "      <td>2018</td>\n",
              "      <td>Chicago</td>\n",
              "    </tr>\n",
              "    <tr>\n",
              "      <th>0</th>\n",
              "      <td>2018-03-25</td>\n",
              "      <td>0.70</td>\n",
              "      <td>9010588.32</td>\n",
              "      <td>3999735.71</td>\n",
              "      <td>966589.50</td>\n",
              "      <td>30130.82</td>\n",
              "      <td>4014132.29</td>\n",
              "      <td>3398569.92</td>\n",
              "      <td>546409.74</td>\n",
              "      <td>69152.63</td>\n",
              "      <td>conventional</td>\n",
              "      <td>2018</td>\n",
              "      <td>SouthCentral</td>\n",
              "    </tr>\n",
              "    <tr>\n",
              "      <th>0</th>\n",
              "      <td>2018-03-25</td>\n",
              "      <td>1.42</td>\n",
              "      <td>163496.70</td>\n",
              "      <td>29253.30</td>\n",
              "      <td>5080.04</td>\n",
              "      <td>0.00</td>\n",
              "      <td>129163.36</td>\n",
              "      <td>109052.26</td>\n",
              "      <td>20111.10</td>\n",
              "      <td>0.00</td>\n",
              "      <td>organic</td>\n",
              "      <td>2018</td>\n",
              "      <td>SouthCentral</td>\n",
              "    </tr>\n",
              "    <tr>\n",
              "      <th>0</th>\n",
              "      <td>2018-03-25</td>\n",
              "      <td>1.70</td>\n",
              "      <td>190257.38</td>\n",
              "      <td>29644.09</td>\n",
              "      <td>70982.10</td>\n",
              "      <td>0.00</td>\n",
              "      <td>89631.19</td>\n",
              "      <td>89424.11</td>\n",
              "      <td>207.08</td>\n",
              "      <td>0.00</td>\n",
              "      <td>organic</td>\n",
              "      <td>2018</td>\n",
              "      <td>California</td>\n",
              "    </tr>\n",
              "    <tr>\n",
              "      <th>0</th>\n",
              "      <td>2018-03-25</td>\n",
              "      <td>1.34</td>\n",
              "      <td>1774776.77</td>\n",
              "      <td>63905.98</td>\n",
              "      <td>908653.71</td>\n",
              "      <td>843.45</td>\n",
              "      <td>801373.63</td>\n",
              "      <td>774634.09</td>\n",
              "      <td>23833.93</td>\n",
              "      <td>2905.61</td>\n",
              "      <td>conventional</td>\n",
              "      <td>2018</td>\n",
              "      <td>NewYork</td>\n",
              "    </tr>\n",
              "  </tbody>\n",
              "</table>\n",
              "<p>18249 rows × 13 columns</p>\n",
              "</div>"
            ],
            "text/plain": [
              "          Date  AveragePrice  Total Volume        4046       4225       4770  \\\n",
              "51  2015-01-04          1.75      27365.89     9307.34    3844.81     615.28   \n",
              "51  2015-01-04          1.49      17723.17     1189.35   15628.27       0.00   \n",
              "51  2015-01-04          1.68       2896.72      161.68     206.96       0.00   \n",
              "51  2015-01-04          1.52      54956.80     3013.04   35456.88    1561.70   \n",
              "51  2015-01-04          1.64       1505.12        1.27    1129.50       0.00   \n",
              "..         ...           ...           ...         ...        ...        ...   \n",
              "0   2018-03-25          1.36     908202.13   142681.06  463136.28  174975.75   \n",
              "0   2018-03-25          0.70    9010588.32  3999735.71  966589.50   30130.82   \n",
              "0   2018-03-25          1.42     163496.70    29253.30    5080.04       0.00   \n",
              "0   2018-03-25          1.70     190257.38    29644.09   70982.10       0.00   \n",
              "0   2018-03-25          1.34    1774776.77    63905.98  908653.71     843.45   \n",
              "\n",
              "    Total Bags  Small Bags  Large Bags  XLarge Bags          type  year  \\\n",
              "51    13598.46    13061.10      537.36         0.00       organic  2015   \n",
              "51      905.55      905.55        0.00         0.00       organic  2015   \n",
              "51     2528.08     2528.08        0.00         0.00       organic  2015   \n",
              "51    14925.18    11264.80     3660.38         0.00  conventional  2015   \n",
              "51      374.35      186.67      187.68         0.00       organic  2015   \n",
              "..         ...         ...         ...          ...           ...   ...   \n",
              "0    127409.04   103579.41    22467.04      1362.59  conventional  2018   \n",
              "0   4014132.29  3398569.92   546409.74     69152.63  conventional  2018   \n",
              "0    129163.36   109052.26    20111.10         0.00       organic  2018   \n",
              "0     89631.19    89424.11      207.08         0.00       organic  2018   \n",
              "0    801373.63   774634.09    23833.93      2905.61  conventional  2018   \n",
              "\n",
              "                region  \n",
              "51           Southeast  \n",
              "51             Chicago  \n",
              "51  HarrisburgScranton  \n",
              "51          Pittsburgh  \n",
              "51               Boise  \n",
              "..                 ...  \n",
              "0              Chicago  \n",
              "0         SouthCentral  \n",
              "0         SouthCentral  \n",
              "0           California  \n",
              "0              NewYork  \n",
              "\n",
              "[18249 rows x 13 columns]"
            ]
          },
          "execution_count": 46,
          "metadata": {},
          "output_type": "execute_result"
        }
      ],
      "source": [
        "df"
      ]
    },
    {
      "cell_type": "code",
      "execution_count": 47,
      "metadata": {
        "colab": {
          "base_uri": "https://localhost:8080/"
        },
        "id": "yKbUcmdaZxF4",
        "outputId": "61fb8cb3-265c-4b5a-e84f-e40ce04d8987"
      },
      "outputs": [
        {
          "data": {
            "text/plain": [
              "54"
            ]
          },
          "execution_count": 47,
          "metadata": {},
          "output_type": "execute_result"
        }
      ],
      "source": [
        "df['region'].nunique()"
      ]
    },
    {
      "cell_type": "code",
      "execution_count": 48,
      "metadata": {
        "id": "hMNjGiAQZxC_"
      },
      "outputs": [],
      "source": [
        "df_date = df.groupby('Date')['AveragePrice'].mean()"
      ]
    },
    {
      "cell_type": "code",
      "execution_count": 49,
      "metadata": {
        "colab": {
          "base_uri": "https://localhost:8080/"
        },
        "id": "QLzcP-LYZxAI",
        "outputId": "14830120-5277-4a6a-c0d0-77cf3bd91552"
      },
      "outputs": [
        {
          "data": {
            "text/plain": [
              "Date\n",
              "2015-01-04    1.301296\n",
              "2015-01-11    1.370648\n",
              "2015-01-18    1.391111\n",
              "2015-01-25    1.397130\n",
              "2015-02-01    1.247037\n",
              "                ...   \n",
              "2018-02-25    1.359630\n",
              "2018-03-04    1.350185\n",
              "2018-03-11    1.335093\n",
              "2018-03-18    1.313704\n",
              "2018-03-25    1.346852\n",
              "Name: AveragePrice, Length: 169, dtype: float64"
            ]
          },
          "execution_count": 49,
          "metadata": {},
          "output_type": "execute_result"
        }
      ],
      "source": [
        "df_date"
      ]
    },
    {
      "cell_type": "code",
      "execution_count": 50,
      "metadata": {
        "id": "QCUIA4Khb1sY"
      },
      "outputs": [],
      "source": [
        "import matplotlib.pyplot as plt"
      ]
    },
    {
      "cell_type": "code",
      "execution_count": 51,
      "metadata": {
        "colab": {
          "base_uri": "https://localhost:8080/",
          "height": 432
        },
        "id": "HmqVbPiCZw9X",
        "outputId": "61eb10a9-dc27-44a5-8934-e1a2870e97e7"
      },
      "outputs": [
        {
          "data": {
            "image/png": "[encoded data removed]",
            "text/plain": [
              "<Figure size 640x480 with 1 Axes>"
            ]
          },
          "metadata": {},
          "output_type": "display_data"
        }
      ],
      "source": [
        "plt.plot(df_date)\n",
        "plt.show()"
      ]
    },
    {
      "cell_type": "code",
      "execution_count": null,
      "metadata": {
        "id": "ktNPyrKLZw6Z"
      },
      "outputs": [],
      "source": []
    },
    {
      "cell_type": "code",
      "execution_count": 52,
      "metadata": {
        "colab": {
          "base_uri": "https://localhost:8080/"
        },
        "id": "hzPHeWGjZw3i",
        "outputId": "1e1bfb8d-849d-4924-8742-a222c21a7759"
      },
      "outputs": [
        {
          "data": {
            "text/plain": [
              "2017    5722\n",
              "2016    5616\n",
              "2015    5615\n",
              "2018    1296\n",
              "Name: year, dtype: int64"
            ]
          },
          "execution_count": 52,
          "metadata": {},
          "output_type": "execute_result"
        }
      ],
      "source": [
        "df['year'].value_counts()"
      ]
    },
    {
      "cell_type": "code",
      "execution_count": 53,
      "metadata": {
        "id": "k1m8vA4eZw0p"
      },
      "outputs": [],
      "source": [
        "import seaborn as sb"
      ]
    },
    {
      "cell_type": "code",
      "execution_count": 54,
      "metadata": {
        "colab": {
          "base_uri": "https://localhost:8080/",
          "height": 454
        },
        "id": "DZsBX8E8Zwxw",
        "outputId": "65c8dec7-5416-4925-aa38-838e1d007891"
      },
      "outputs": [
        {
          "data": {
            "image/png": "[encoded data removed]",
            "text/plain": [
              "<Figure size 640x480 with 1 Axes>"
            ]
          },
          "metadata": {},
          "output_type": "display_data"
        }
      ],
      "source": [
        "sb.countplot(data= df, x='year')\n",
        "plt.show()"
      ]
    },
    {
      "cell_type": "code",
      "execution_count": 55,
      "metadata": {
        "id": "LQjbMbM_Zwu5"
      },
      "outputs": [],
      "source": [
        "# 날짜컬럼이 년월일만 되어있는데, \n",
        "# 요일정보를 알고 싶다.\n",
        "# 요일정보가 있으면, 각 요일별로 가격도 표시할수있다."
      ]
    },
    {
      "cell_type": "code",
      "execution_count": 56,
      "metadata": {
        "id": "cFL94zg7dyA4"
      },
      "outputs": [],
      "source": [
        "data = '2015-01-04'"
      ]
    },
    {
      "cell_type": "code",
      "execution_count": 57,
      "metadata": {
        "id": "2FY132Pvd44T"
      },
      "outputs": [],
      "source": [
        "from datetime import date"
      ]
    },
    {
      "cell_type": "code",
      "execution_count": 58,
      "metadata": {
        "colab": {
          "base_uri": "https://localhost:8080/"
        },
        "id": "j513MZ2wd3-Z",
        "outputId": "5f219dcf-ce15-4cfc-c396-6fc246d4d84b"
      },
      "outputs": [
        {
          "data": {
            "text/plain": [
              "6"
            ]
          },
          "execution_count": 58,
          "metadata": {},
          "output_type": "execute_result"
        }
      ],
      "source": [
        "date(2015, 1, 4).weekday()"
      ]
    },
    {
      "cell_type": "code",
      "execution_count": 59,
      "metadata": {
        "colab": {
          "base_uri": "https://localhost:8080/",
          "height": 277
        },
        "id": "Pmfoo-i1Zwr3",
        "outputId": "69902c1e-1ec2-441f-8030-e746870fd26c"
      },
      "outputs": [
        {
          "data": {
            "text/html": [
              "<div>\n",
              "<style scoped>\n",
              "    .dataframe tbody tr th:only-of-type {\n",
              "        vertical-align: middle;\n",
              "    }\n",
              "\n",
              "    .dataframe tbody tr th {\n",
              "        vertical-align: top;\n",
              "    }\n",
              "\n",
              "    .dataframe thead th {\n",
              "        text-align: right;\n",
              "    }\n",
              "</style>\n",
              "<table border=\"1\" class=\"dataframe\">\n",
              "  <thead>\n",
              "    <tr style=\"text-align: right;\">\n",
              "      <th></th>\n",
              "      <th>Date</th>\n",
              "      <th>AveragePrice</th>\n",
              "      <th>Total Volume</th>\n",
              "      <th>4046</th>\n",
              "      <th>4225</th>\n",
              "      <th>4770</th>\n",
              "      <th>Total Bags</th>\n",
              "      <th>Small Bags</th>\n",
              "      <th>Large Bags</th>\n",
              "      <th>XLarge Bags</th>\n",
              "      <th>type</th>\n",
              "      <th>year</th>\n",
              "      <th>region</th>\n",
              "    </tr>\n",
              "  </thead>\n",
              "  <tbody>\n",
              "    <tr>\n",
              "      <th>51</th>\n",
              "      <td>2015-01-04</td>\n",
              "      <td>1.75</td>\n",
              "      <td>27365.89</td>\n",
              "      <td>9307.34</td>\n",
              "      <td>3844.81</td>\n",
              "      <td>615.28</td>\n",
              "      <td>13598.46</td>\n",
              "      <td>13061.10</td>\n",
              "      <td>537.36</td>\n",
              "      <td>0.0</td>\n",
              "      <td>organic</td>\n",
              "      <td>2015</td>\n",
              "      <td>Southeast</td>\n",
              "    </tr>\n",
              "    <tr>\n",
              "      <th>51</th>\n",
              "      <td>2015-01-04</td>\n",
              "      <td>1.49</td>\n",
              "      <td>17723.17</td>\n",
              "      <td>1189.35</td>\n",
              "      <td>15628.27</td>\n",
              "      <td>0.00</td>\n",
              "      <td>905.55</td>\n",
              "      <td>905.55</td>\n",
              "      <td>0.00</td>\n",
              "      <td>0.0</td>\n",
              "      <td>organic</td>\n",
              "      <td>2015</td>\n",
              "      <td>Chicago</td>\n",
              "    </tr>\n",
              "    <tr>\n",
              "      <th>51</th>\n",
              "      <td>2015-01-04</td>\n",
              "      <td>1.68</td>\n",
              "      <td>2896.72</td>\n",
              "      <td>161.68</td>\n",
              "      <td>206.96</td>\n",
              "      <td>0.00</td>\n",
              "      <td>2528.08</td>\n",
              "      <td>2528.08</td>\n",
              "      <td>0.00</td>\n",
              "      <td>0.0</td>\n",
              "      <td>organic</td>\n",
              "      <td>2015</td>\n",
              "      <td>HarrisburgScranton</td>\n",
              "    </tr>\n",
              "  </tbody>\n",
              "</table>\n",
              "</div>"
            ],
            "text/plain": [
              "          Date  AveragePrice  Total Volume     4046      4225    4770  \\\n",
              "51  2015-01-04          1.75      27365.89  9307.34   3844.81  615.28   \n",
              "51  2015-01-04          1.49      17723.17  1189.35  15628.27    0.00   \n",
              "51  2015-01-04          1.68       2896.72   161.68    206.96    0.00   \n",
              "\n",
              "    Total Bags  Small Bags  Large Bags  XLarge Bags     type  year  \\\n",
              "51    13598.46    13061.10      537.36          0.0  organic  2015   \n",
              "51      905.55      905.55        0.00          0.0  organic  2015   \n",
              "51     2528.08     2528.08        0.00          0.0  organic  2015   \n",
              "\n",
              "                region  \n",
              "51           Southeast  \n",
              "51             Chicago  \n",
              "51  HarrisburgScranton  "
            ]
          },
          "execution_count": 59,
          "metadata": {},
          "output_type": "execute_result"
        }
      ],
      "source": [
        "df.head(3)"
      ]
    },
    {
      "cell_type": "code",
      "execution_count": 60,
      "metadata": {
        "colab": {
          "base_uri": "https://localhost:8080/"
        },
        "id": "J7JfN6nYfIGk",
        "outputId": "aa7ced7b-52a3-4baf-dac0-dcbdeb36db3b"
      },
      "outputs": [
        {
          "data": {
            "text/plain": [
              "51    2015-01-04\n",
              "51    2015-01-04\n",
              "51    2015-01-04\n",
              "51    2015-01-04\n",
              "51    2015-01-04\n",
              "         ...    \n",
              "0     2018-03-25\n",
              "0     2018-03-25\n",
              "0     2018-03-25\n",
              "0     2018-03-25\n",
              "0     2018-03-25\n",
              "Name: Date, Length: 18249, dtype: object"
            ]
          },
          "execution_count": 60,
          "metadata": {},
          "output_type": "execute_result"
        }
      ],
      "source": [
        "df['Date']"
      ]
    },
    {
      "cell_type": "code",
      "execution_count": 61,
      "metadata": {
        "id": "ajkuYbLVZwop"
      },
      "outputs": [],
      "source": [
        "df['weekday'] = pd.to_datetime( df['Date'] ).dt.weekday"
      ]
    },
    {
      "cell_type": "code",
      "execution_count": 62,
      "metadata": {
        "colab": {
          "base_uri": "https://localhost:8080/",
          "height": 679
        },
        "id": "lvQHS2k8ZwlB",
        "outputId": "147af3fa-5266-4b39-d617-d07bc2428357"
      },
      "outputs": [
        {
          "data": {
            "text/html": [
              "<div>\n",
              "<style scoped>\n",
              "    .dataframe tbody tr th:only-of-type {\n",
              "        vertical-align: middle;\n",
              "    }\n",
              "\n",
              "    .dataframe tbody tr th {\n",
              "        vertical-align: top;\n",
              "    }\n",
              "\n",
              "    .dataframe thead th {\n",
              "        text-align: right;\n",
              "    }\n",
              "</style>\n",
              "<table border=\"1\" class=\"dataframe\">\n",
              "  <thead>\n",
              "    <tr style=\"text-align: right;\">\n",
              "      <th></th>\n",
              "      <th>Date</th>\n",
              "      <th>AveragePrice</th>\n",
              "      <th>Total Volume</th>\n",
              "      <th>4046</th>\n",
              "      <th>4225</th>\n",
              "      <th>4770</th>\n",
              "      <th>Total Bags</th>\n",
              "      <th>Small Bags</th>\n",
              "      <th>Large Bags</th>\n",
              "      <th>XLarge Bags</th>\n",
              "      <th>type</th>\n",
              "      <th>year</th>\n",
              "      <th>region</th>\n",
              "      <th>weekday</th>\n",
              "    </tr>\n",
              "  </thead>\n",
              "  <tbody>\n",
              "    <tr>\n",
              "      <th>51</th>\n",
              "      <td>2015-01-04</td>\n",
              "      <td>1.75</td>\n",
              "      <td>27365.89</td>\n",
              "      <td>9307.34</td>\n",
              "      <td>3844.81</td>\n",
              "      <td>615.28</td>\n",
              "      <td>13598.46</td>\n",
              "      <td>13061.10</td>\n",
              "      <td>537.36</td>\n",
              "      <td>0.00</td>\n",
              "      <td>organic</td>\n",
              "      <td>2015</td>\n",
              "      <td>Southeast</td>\n",
              "      <td>6</td>\n",
              "    </tr>\n",
              "    <tr>\n",
              "      <th>51</th>\n",
              "      <td>2015-01-04</td>\n",
              "      <td>1.49</td>\n",
              "      <td>17723.17</td>\n",
              "      <td>1189.35</td>\n",
              "      <td>15628.27</td>\n",
              "      <td>0.00</td>\n",
              "      <td>905.55</td>\n",
              "      <td>905.55</td>\n",
              "      <td>0.00</td>\n",
              "      <td>0.00</td>\n",
              "      <td>organic</td>\n",
              "      <td>2015</td>\n",
              "      <td>Chicago</td>\n",
              "      <td>6</td>\n",
              "    </tr>\n",
              "    <tr>\n",
              "      <th>51</th>\n",
              "      <td>2015-01-04</td>\n",
              "      <td>1.68</td>\n",
              "      <td>2896.72</td>\n",
              "      <td>161.68</td>\n",
              "      <td>206.96</td>\n",
              "      <td>0.00</td>\n",
              "      <td>2528.08</td>\n",
              "      <td>2528.08</td>\n",
              "      <td>0.00</td>\n",
              "      <td>0.00</td>\n",
              "      <td>organic</td>\n",
              "      <td>2015</td>\n",
              "      <td>HarrisburgScranton</td>\n",
              "      <td>6</td>\n",
              "    </tr>\n",
              "    <tr>\n",
              "      <th>51</th>\n",
              "      <td>2015-01-04</td>\n",
              "      <td>1.52</td>\n",
              "      <td>54956.80</td>\n",
              "      <td>3013.04</td>\n",
              "      <td>35456.88</td>\n",
              "      <td>1561.70</td>\n",
              "      <td>14925.18</td>\n",
              "      <td>11264.80</td>\n",
              "      <td>3660.38</td>\n",
              "      <td>0.00</td>\n",
              "      <td>conventional</td>\n",
              "      <td>2015</td>\n",
              "      <td>Pittsburgh</td>\n",
              "      <td>6</td>\n",
              "    </tr>\n",
              "    <tr>\n",
              "      <th>51</th>\n",
              "      <td>2015-01-04</td>\n",
              "      <td>1.64</td>\n",
              "      <td>1505.12</td>\n",
              "      <td>1.27</td>\n",
              "      <td>1129.50</td>\n",
              "      <td>0.00</td>\n",
              "      <td>374.35</td>\n",
              "      <td>186.67</td>\n",
              "      <td>187.68</td>\n",
              "      <td>0.00</td>\n",
              "      <td>organic</td>\n",
              "      <td>2015</td>\n",
              "      <td>Boise</td>\n",
              "      <td>6</td>\n",
              "    </tr>\n",
              "    <tr>\n",
              "      <th>...</th>\n",
              "      <td>...</td>\n",
              "      <td>...</td>\n",
              "      <td>...</td>\n",
              "      <td>...</td>\n",
              "      <td>...</td>\n",
              "      <td>...</td>\n",
              "      <td>...</td>\n",
              "      <td>...</td>\n",
              "      <td>...</td>\n",
              "      <td>...</td>\n",
              "      <td>...</td>\n",
              "      <td>...</td>\n",
              "      <td>...</td>\n",
              "      <td>...</td>\n",
              "    </tr>\n",
              "    <tr>\n",
              "      <th>0</th>\n",
              "      <td>2018-03-25</td>\n",
              "      <td>1.36</td>\n",
              "      <td>908202.13</td>\n",
              "      <td>142681.06</td>\n",
              "      <td>463136.28</td>\n",
              "      <td>174975.75</td>\n",
              "      <td>127409.04</td>\n",
              "      <td>103579.41</td>\n",
              "      <td>22467.04</td>\n",
              "      <td>1362.59</td>\n",
              "      <td>conventional</td>\n",
              "      <td>2018</td>\n",
              "      <td>Chicago</td>\n",
              "      <td>6</td>\n",
              "    </tr>\n",
              "    <tr>\n",
              "      <th>0</th>\n",
              "      <td>2018-03-25</td>\n",
              "      <td>0.70</td>\n",
              "      <td>9010588.32</td>\n",
              "      <td>3999735.71</td>\n",
              "      <td>966589.50</td>\n",
              "      <td>30130.82</td>\n",
              "      <td>4014132.29</td>\n",
              "      <td>3398569.92</td>\n",
              "      <td>546409.74</td>\n",
              "      <td>69152.63</td>\n",
              "      <td>conventional</td>\n",
              "      <td>2018</td>\n",
              "      <td>SouthCentral</td>\n",
              "      <td>6</td>\n",
              "    </tr>\n",
              "    <tr>\n",
              "      <th>0</th>\n",
              "      <td>2018-03-25</td>\n",
              "      <td>1.42</td>\n",
              "      <td>163496.70</td>\n",
              "      <td>29253.30</td>\n",
              "      <td>5080.04</td>\n",
              "      <td>0.00</td>\n",
              "      <td>129163.36</td>\n",
              "      <td>109052.26</td>\n",
              "      <td>20111.10</td>\n",
              "      <td>0.00</td>\n",
              "      <td>organic</td>\n",
              "      <td>2018</td>\n",
              "      <td>SouthCentral</td>\n",
              "      <td>6</td>\n",
              "    </tr>\n",
              "    <tr>\n",
              "      <th>0</th>\n",
              "      <td>2018-03-25</td>\n",
              "      <td>1.70</td>\n",
              "      <td>190257.38</td>\n",
              "      <td>29644.09</td>\n",
              "      <td>70982.10</td>\n",
              "      <td>0.00</td>\n",
              "      <td>89631.19</td>\n",
              "      <td>89424.11</td>\n",
              "      <td>207.08</td>\n",
              "      <td>0.00</td>\n",
              "      <td>organic</td>\n",
              "      <td>2018</td>\n",
              "      <td>California</td>\n",
              "      <td>6</td>\n",
              "    </tr>\n",
              "    <tr>\n",
              "      <th>0</th>\n",
              "      <td>2018-03-25</td>\n",
              "      <td>1.34</td>\n",
              "      <td>1774776.77</td>\n",
              "      <td>63905.98</td>\n",
              "      <td>908653.71</td>\n",
              "      <td>843.45</td>\n",
              "      <td>801373.63</td>\n",
              "      <td>774634.09</td>\n",
              "      <td>23833.93</td>\n",
              "      <td>2905.61</td>\n",
              "      <td>conventional</td>\n",
              "      <td>2018</td>\n",
              "      <td>NewYork</td>\n",
              "      <td>6</td>\n",
              "    </tr>\n",
              "  </tbody>\n",
              "</table>\n",
              "<p>18249 rows × 14 columns</p>\n",
              "</div>"
            ],
            "text/plain": [
              "          Date  AveragePrice  Total Volume        4046       4225       4770  \\\n",
              "51  2015-01-04          1.75      27365.89     9307.34    3844.81     615.28   \n",
              "51  2015-01-04          1.49      17723.17     1189.35   15628.27       0.00   \n",
              "51  2015-01-04          1.68       2896.72      161.68     206.96       0.00   \n",
              "51  2015-01-04          1.52      54956.80     3013.04   35456.88    1561.70   \n",
              "51  2015-01-04          1.64       1505.12        1.27    1129.50       0.00   \n",
              "..         ...           ...           ...         ...        ...        ...   \n",
              "0   2018-03-25          1.36     908202.13   142681.06  463136.28  174975.75   \n",
              "0   2018-03-25          0.70    9010588.32  3999735.71  966589.50   30130.82   \n",
              "0   2018-03-25          1.42     163496.70    29253.30    5080.04       0.00   \n",
              "0   2018-03-25          1.70     190257.38    29644.09   70982.10       0.00   \n",
              "0   2018-03-25          1.34    1774776.77    63905.98  908653.71     843.45   \n",
              "\n",
              "    Total Bags  Small Bags  Large Bags  XLarge Bags          type  year  \\\n",
              "51    13598.46    13061.10      537.36         0.00       organic  2015   \n",
              "51      905.55      905.55        0.00         0.00       organic  2015   \n",
              "51     2528.08     2528.08        0.00         0.00       organic  2015   \n",
              "51    14925.18    11264.80     3660.38         0.00  conventional  2015   \n",
              "51      374.35      186.67      187.68         0.00       organic  2015   \n",
              "..         ...         ...         ...          ...           ...   ...   \n",
              "0    127409.04   103579.41    22467.04      1362.59  conventional  2018   \n",
              "0   4014132.29  3398569.92   546409.74     69152.63  conventional  2018   \n",
              "0    129163.36   109052.26    20111.10         0.00       organic  2018   \n",
              "0     89631.19    89424.11      207.08         0.00       organic  2018   \n",
              "0    801373.63   774634.09    23833.93      2905.61  conventional  2018   \n",
              "\n",
              "                region  weekday  \n",
              "51           Southeast        6  \n",
              "51             Chicago        6  \n",
              "51  HarrisburgScranton        6  \n",
              "51          Pittsburgh        6  \n",
              "51               Boise        6  \n",
              "..                 ...      ...  \n",
              "0              Chicago        6  \n",
              "0         SouthCentral        6  \n",
              "0         SouthCentral        6  \n",
              "0           California        6  \n",
              "0              NewYork        6  \n",
              "\n",
              "[18249 rows x 14 columns]"
            ]
          },
          "execution_count": 62,
          "metadata": {},
          "output_type": "execute_result"
        }
      ],
      "source": [
        "df"
      ]
    },
    {
      "cell_type": "code",
      "execution_count": 63,
      "metadata": {
        "id": "yRGSCQMuXq2B"
      },
      "outputs": [],
      "source": [
        "# 가격 예측"
      ]
    },
    {
      "cell_type": "code",
      "execution_count": 64,
      "metadata": {
        "id": "_EESBZW9hOQK"
      },
      "outputs": [],
      "source": [
        "# 타임시리즈 데이터를 예측하는 라이브러리 중에\n",
        "# 페이스북이 개발한 Prophet 라이브러리를 사용"
      ]
    },
    {
      "cell_type": "code",
      "execution_count": 65,
      "metadata": {
        "id": "zFOIgpijhONJ"
      },
      "outputs": [],
      "source": [
        "# 프로펫은 2개 컬럼만 있으면, 예측 가능하다.\n",
        "# 날짜 컬럼과, 예측하려는 컬럼!!!"
      ]
    },
    {
      "cell_type": "code",
      "execution_count": 66,
      "metadata": {
        "colab": {
          "base_uri": "https://localhost:8080/",
          "height": 679
        },
        "id": "zN2TYqQUhOKa",
        "outputId": "7c6130ec-d0d1-49d7-a5ce-30969c38ec10"
      },
      "outputs": [
        {
          "data": {
            "text/html": [
              "<div>\n",
              "<style scoped>\n",
              "    .dataframe tbody tr th:only-of-type {\n",
              "        vertical-align: middle;\n",
              "    }\n",
              "\n",
              "    .dataframe tbody tr th {\n",
              "        vertical-align: top;\n",
              "    }\n",
              "\n",
              "    .dataframe thead th {\n",
              "        text-align: right;\n",
              "    }\n",
              "</style>\n",
              "<table border=\"1\" class=\"dataframe\">\n",
              "  <thead>\n",
              "    <tr style=\"text-align: right;\">\n",
              "      <th></th>\n",
              "      <th>Date</th>\n",
              "      <th>AveragePrice</th>\n",
              "      <th>Total Volume</th>\n",
              "      <th>4046</th>\n",
              "      <th>4225</th>\n",
              "      <th>4770</th>\n",
              "      <th>Total Bags</th>\n",
              "      <th>Small Bags</th>\n",
              "      <th>Large Bags</th>\n",
              "      <th>XLarge Bags</th>\n",
              "      <th>type</th>\n",
              "      <th>year</th>\n",
              "      <th>region</th>\n",
              "      <th>weekday</th>\n",
              "    </tr>\n",
              "  </thead>\n",
              "  <tbody>\n",
              "    <tr>\n",
              "      <th>51</th>\n",
              "      <td>2015-01-04</td>\n",
              "      <td>1.75</td>\n",
              "      <td>27365.89</td>\n",
              "      <td>9307.34</td>\n",
              "      <td>3844.81</td>\n",
              "      <td>615.28</td>\n",
              "      <td>13598.46</td>\n",
              "      <td>13061.10</td>\n",
              "      <td>537.36</td>\n",
              "      <td>0.00</td>\n",
              "      <td>organic</td>\n",
              "      <td>2015</td>\n",
              "      <td>Southeast</td>\n",
              "      <td>6</td>\n",
              "    </tr>\n",
              "    <tr>\n",
              "      <th>51</th>\n",
              "      <td>2015-01-04</td>\n",
              "      <td>1.49</td>\n",
              "      <td>17723.17</td>\n",
              "      <td>1189.35</td>\n",
              "      <td>15628.27</td>\n",
              "      <td>0.00</td>\n",
              "      <td>905.55</td>\n",
              "      <td>905.55</td>\n",
              "      <td>0.00</td>\n",
              "      <td>0.00</td>\n",
              "      <td>organic</td>\n",
              "      <td>2015</td>\n",
              "      <td>Chicago</td>\n",
              "      <td>6</td>\n",
              "    </tr>\n",
              "    <tr>\n",
              "      <th>51</th>\n",
              "      <td>2015-01-04</td>\n",
              "      <td>1.68</td>\n",
              "      <td>2896.72</td>\n",
              "      <td>161.68</td>\n",
              "      <td>206.96</td>\n",
              "      <td>0.00</td>\n",
              "      <td>2528.08</td>\n",
              "      <td>2528.08</td>\n",
              "      <td>0.00</td>\n",
              "      <td>0.00</td>\n",
              "      <td>organic</td>\n",
              "      <td>2015</td>\n",
              "      <td>HarrisburgScranton</td>\n",
              "      <td>6</td>\n",
              "    </tr>\n",
              "    <tr>\n",
              "      <th>51</th>\n",
              "      <td>2015-01-04</td>\n",
              "      <td>1.52</td>\n",
              "      <td>54956.80</td>\n",
              "      <td>3013.04</td>\n",
              "      <td>35456.88</td>\n",
              "      <td>1561.70</td>\n",
              "      <td>14925.18</td>\n",
              "      <td>11264.80</td>\n",
              "      <td>3660.38</td>\n",
              "      <td>0.00</td>\n",
              "      <td>conventional</td>\n",
              "      <td>2015</td>\n",
              "      <td>Pittsburgh</td>\n",
              "      <td>6</td>\n",
              "    </tr>\n",
              "    <tr>\n",
              "      <th>51</th>\n",
              "      <td>2015-01-04</td>\n",
              "      <td>1.64</td>\n",
              "      <td>1505.12</td>\n",
              "      <td>1.27</td>\n",
              "      <td>1129.50</td>\n",
              "      <td>0.00</td>\n",
              "      <td>374.35</td>\n",
              "      <td>186.67</td>\n",
              "      <td>187.68</td>\n",
              "      <td>0.00</td>\n",
              "      <td>organic</td>\n",
              "      <td>2015</td>\n",
              "      <td>Boise</td>\n",
              "      <td>6</td>\n",
              "    </tr>\n",
              "    <tr>\n",
              "      <th>...</th>\n",
              "      <td>...</td>\n",
              "      <td>...</td>\n",
              "      <td>...</td>\n",
              "      <td>...</td>\n",
              "      <td>...</td>\n",
              "      <td>...</td>\n",
              "      <td>...</td>\n",
              "      <td>...</td>\n",
              "      <td>...</td>\n",
              "      <td>...</td>\n",
              "      <td>...</td>\n",
              "      <td>...</td>\n",
              "      <td>...</td>\n",
              "      <td>...</td>\n",
              "    </tr>\n",
              "    <tr>\n",
              "      <th>0</th>\n",
              "      <td>2018-03-25</td>\n",
              "      <td>1.36</td>\n",
              "      <td>908202.13</td>\n",
              "      <td>142681.06</td>\n",
              "      <td>463136.28</td>\n",
              "      <td>174975.75</td>\n",
              "      <td>127409.04</td>\n",
              "      <td>103579.41</td>\n",
              "      <td>22467.04</td>\n",
              "      <td>1362.59</td>\n",
              "      <td>conventional</td>\n",
              "      <td>2018</td>\n",
              "      <td>Chicago</td>\n",
              "      <td>6</td>\n",
              "    </tr>\n",
              "    <tr>\n",
              "      <th>0</th>\n",
              "      <td>2018-03-25</td>\n",
              "      <td>0.70</td>\n",
              "      <td>9010588.32</td>\n",
              "      <td>3999735.71</td>\n",
              "      <td>966589.50</td>\n",
              "      <td>30130.82</td>\n",
              "      <td>4014132.29</td>\n",
              "      <td>3398569.92</td>\n",
              "      <td>546409.74</td>\n",
              "      <td>69152.63</td>\n",
              "      <td>conventional</td>\n",
              "      <td>2018</td>\n",
              "      <td>SouthCentral</td>\n",
              "      <td>6</td>\n",
              "    </tr>\n",
              "    <tr>\n",
              "      <th>0</th>\n",
              "      <td>2018-03-25</td>\n",
              "      <td>1.42</td>\n",
              "      <td>163496.70</td>\n",
              "      <td>29253.30</td>\n",
              "      <td>5080.04</td>\n",
              "      <td>0.00</td>\n",
              "      <td>129163.36</td>\n",
              "      <td>109052.26</td>\n",
              "      <td>20111.10</td>\n",
              "      <td>0.00</td>\n",
              "      <td>organic</td>\n",
              "      <td>2018</td>\n",
              "      <td>SouthCentral</td>\n",
              "      <td>6</td>\n",
              "    </tr>\n",
              "    <tr>\n",
              "      <th>0</th>\n",
              "      <td>2018-03-25</td>\n",
              "      <td>1.70</td>\n",
              "      <td>190257.38</td>\n",
              "      <td>29644.09</td>\n",
              "      <td>70982.10</td>\n",
              "      <td>0.00</td>\n",
              "      <td>89631.19</td>\n",
              "      <td>89424.11</td>\n",
              "      <td>207.08</td>\n",
              "      <td>0.00</td>\n",
              "      <td>organic</td>\n",
              "      <td>2018</td>\n",
              "      <td>California</td>\n",
              "      <td>6</td>\n",
              "    </tr>\n",
              "    <tr>\n",
              "      <th>0</th>\n",
              "      <td>2018-03-25</td>\n",
              "      <td>1.34</td>\n",
              "      <td>1774776.77</td>\n",
              "      <td>63905.98</td>\n",
              "      <td>908653.71</td>\n",
              "      <td>843.45</td>\n",
              "      <td>801373.63</td>\n",
              "      <td>774634.09</td>\n",
              "      <td>23833.93</td>\n",
              "      <td>2905.61</td>\n",
              "      <td>conventional</td>\n",
              "      <td>2018</td>\n",
              "      <td>NewYork</td>\n",
              "      <td>6</td>\n",
              "    </tr>\n",
              "  </tbody>\n",
              "</table>\n",
              "<p>18249 rows × 14 columns</p>\n",
              "</div>"
            ],
            "text/plain": [
              "          Date  AveragePrice  Total Volume        4046       4225       4770  \\\n",
              "51  2015-01-04          1.75      27365.89     9307.34    3844.81     615.28   \n",
              "51  2015-01-04          1.49      17723.17     1189.35   15628.27       0.00   \n",
              "51  2015-01-04          1.68       2896.72      161.68     206.96       0.00   \n",
              "51  2015-01-04          1.52      54956.80     3013.04   35456.88    1561.70   \n",
              "51  2015-01-04          1.64       1505.12        1.27    1129.50       0.00   \n",
              "..         ...           ...           ...         ...        ...        ...   \n",
              "0   2018-03-25          1.36     908202.13   142681.06  463136.28  174975.75   \n",
              "0   2018-03-25          0.70    9010588.32  3999735.71  966589.50   30130.82   \n",
              "0   2018-03-25          1.42     163496.70    29253.30    5080.04       0.00   \n",
              "0   2018-03-25          1.70     190257.38    29644.09   70982.10       0.00   \n",
              "0   2018-03-25          1.34    1774776.77    63905.98  908653.71     843.45   \n",
              "\n",
              "    Total Bags  Small Bags  Large Bags  XLarge Bags          type  year  \\\n",
              "51    13598.46    13061.10      537.36         0.00       organic  2015   \n",
              "51      905.55      905.55        0.00         0.00       organic  2015   \n",
              "51     2528.08     2528.08        0.00         0.00       organic  2015   \n",
              "51    14925.18    11264.80     3660.38         0.00  conventional  2015   \n",
              "51      374.35      186.67      187.68         0.00       organic  2015   \n",
              "..         ...         ...         ...          ...           ...   ...   \n",
              "0    127409.04   103579.41    22467.04      1362.59  conventional  2018   \n",
              "0   4014132.29  3398569.92   546409.74     69152.63  conventional  2018   \n",
              "0    129163.36   109052.26    20111.10         0.00       organic  2018   \n",
              "0     89631.19    89424.11      207.08         0.00       organic  2018   \n",
              "0    801373.63   774634.09    23833.93      2905.61  conventional  2018   \n",
              "\n",
              "                region  weekday  \n",
              "51           Southeast        6  \n",
              "51             Chicago        6  \n",
              "51  HarrisburgScranton        6  \n",
              "51          Pittsburgh        6  \n",
              "51               Boise        6  \n",
              "..                 ...      ...  \n",
              "0              Chicago        6  \n",
              "0         SouthCentral        6  \n",
              "0         SouthCentral        6  \n",
              "0           California        6  \n",
              "0              NewYork        6  \n",
              "\n",
              "[18249 rows x 14 columns]"
            ]
          },
          "execution_count": 66,
          "metadata": {},
          "output_type": "execute_result"
        }
      ],
      "source": [
        "df"
      ]
    },
    {
      "cell_type": "code",
      "execution_count": 67,
      "metadata": {
        "id": "YA2YMclDhOHZ"
      },
      "outputs": [],
      "source": [
        "df_avocado = df[ ['Date', 'AveragePrice'] ]"
      ]
    },
    {
      "cell_type": "code",
      "execution_count": 68,
      "metadata": {
        "colab": {
          "base_uri": "https://localhost:8080/",
          "height": 424
        },
        "id": "SqNVG5t1hOEh",
        "outputId": "1c64eab2-a0be-47a9-9713-38932c35b66b"
      },
      "outputs": [
        {
          "data": {
            "text/html": [
              "<div>\n",
              "<style scoped>\n",
              "    .dataframe tbody tr th:only-of-type {\n",
              "        vertical-align: middle;\n",
              "    }\n",
              "\n",
              "    .dataframe tbody tr th {\n",
              "        vertical-align: top;\n",
              "    }\n",
              "\n",
              "    .dataframe thead th {\n",
              "        text-align: right;\n",
              "    }\n",
              "</style>\n",
              "<table border=\"1\" class=\"dataframe\">\n",
              "  <thead>\n",
              "    <tr style=\"text-align: right;\">\n",
              "      <th></th>\n",
              "      <th>Date</th>\n",
              "      <th>AveragePrice</th>\n",
              "    </tr>\n",
              "  </thead>\n",
              "  <tbody>\n",
              "    <tr>\n",
              "      <th>51</th>\n",
              "      <td>2015-01-04</td>\n",
              "      <td>1.75</td>\n",
              "    </tr>\n",
              "    <tr>\n",
              "      <th>51</th>\n",
              "      <td>2015-01-04</td>\n",
              "      <td>1.49</td>\n",
              "    </tr>\n",
              "    <tr>\n",
              "      <th>51</th>\n",
              "      <td>2015-01-04</td>\n",
              "      <td>1.68</td>\n",
              "    </tr>\n",
              "    <tr>\n",
              "      <th>51</th>\n",
              "      <td>2015-01-04</td>\n",
              "      <td>1.52</td>\n",
              "    </tr>\n",
              "    <tr>\n",
              "      <th>51</th>\n",
              "      <td>2015-01-04</td>\n",
              "      <td>1.64</td>\n",
              "    </tr>\n",
              "    <tr>\n",
              "      <th>...</th>\n",
              "      <td>...</td>\n",
              "      <td>...</td>\n",
              "    </tr>\n",
              "    <tr>\n",
              "      <th>0</th>\n",
              "      <td>2018-03-25</td>\n",
              "      <td>1.36</td>\n",
              "    </tr>\n",
              "    <tr>\n",
              "      <th>0</th>\n",
              "      <td>2018-03-25</td>\n",
              "      <td>0.70</td>\n",
              "    </tr>\n",
              "    <tr>\n",
              "      <th>0</th>\n",
              "      <td>2018-03-25</td>\n",
              "      <td>1.42</td>\n",
              "    </tr>\n",
              "    <tr>\n",
              "      <th>0</th>\n",
              "      <td>2018-03-25</td>\n",
              "      <td>1.70</td>\n",
              "    </tr>\n",
              "    <tr>\n",
              "      <th>0</th>\n",
              "      <td>2018-03-25</td>\n",
              "      <td>1.34</td>\n",
              "    </tr>\n",
              "  </tbody>\n",
              "</table>\n",
              "<p>18249 rows × 2 columns</p>\n",
              "</div>"
            ],
            "text/plain": [
              "          Date  AveragePrice\n",
              "51  2015-01-04          1.75\n",
              "51  2015-01-04          1.49\n",
              "51  2015-01-04          1.68\n",
              "51  2015-01-04          1.52\n",
              "51  2015-01-04          1.64\n",
              "..         ...           ...\n",
              "0   2018-03-25          1.36\n",
              "0   2018-03-25          0.70\n",
              "0   2018-03-25          1.42\n",
              "0   2018-03-25          1.70\n",
              "0   2018-03-25          1.34\n",
              "\n",
              "[18249 rows x 2 columns]"
            ]
          },
          "execution_count": 68,
          "metadata": {},
          "output_type": "execute_result"
        }
      ],
      "source": [
        "df_avocado"
      ]
    },
    {
      "cell_type": "code",
      "execution_count": 69,
      "metadata": {
        "id": "pXTTZ5k-hNqh"
      },
      "outputs": [],
      "source": [
        "# 1. 컬럼명을, 프로펫 라이브러리가 인식할 수 있도록 바꿔준다."
      ]
    },
    {
      "cell_type": "code",
      "execution_count": 70,
      "metadata": {
        "id": "NyNblG1jXqzP"
      },
      "outputs": [],
      "source": [
        "df_prophet = df_avocado.rename( columns={'Date':'ds' , 'AveragePrice':'y'} )"
      ]
    },
    {
      "cell_type": "code",
      "execution_count": 71,
      "metadata": {
        "colab": {
          "base_uri": "https://localhost:8080/",
          "height": 424
        },
        "id": "6R8fnybxlmqW",
        "outputId": "6491fc60-a5c0-4810-a636-45530843d16e"
      },
      "outputs": [
        {
          "data": {
            "text/html": [
              "<div>\n",
              "<style scoped>\n",
              "    .dataframe tbody tr th:only-of-type {\n",
              "        vertical-align: middle;\n",
              "    }\n",
              "\n",
              "    .dataframe tbody tr th {\n",
              "        vertical-align: top;\n",
              "    }\n",
              "\n",
              "    .dataframe thead th {\n",
              "        text-align: right;\n",
              "    }\n",
              "</style>\n",
              "<table border=\"1\" class=\"dataframe\">\n",
              "  <thead>\n",
              "    <tr style=\"text-align: right;\">\n",
              "      <th></th>\n",
              "      <th>ds</th>\n",
              "      <th>y</th>\n",
              "    </tr>\n",
              "  </thead>\n",
              "  <tbody>\n",
              "    <tr>\n",
              "      <th>51</th>\n",
              "      <td>2015-01-04</td>\n",
              "      <td>1.75</td>\n",
              "    </tr>\n",
              "    <tr>\n",
              "      <th>51</th>\n",
              "      <td>2015-01-04</td>\n",
              "      <td>1.49</td>\n",
              "    </tr>\n",
              "    <tr>\n",
              "      <th>51</th>\n",
              "      <td>2015-01-04</td>\n",
              "      <td>1.68</td>\n",
              "    </tr>\n",
              "    <tr>\n",
              "      <th>51</th>\n",
              "      <td>2015-01-04</td>\n",
              "      <td>1.52</td>\n",
              "    </tr>\n",
              "    <tr>\n",
              "      <th>51</th>\n",
              "      <td>2015-01-04</td>\n",
              "      <td>1.64</td>\n",
              "    </tr>\n",
              "    <tr>\n",
              "      <th>...</th>\n",
              "      <td>...</td>\n",
              "      <td>...</td>\n",
              "    </tr>\n",
              "    <tr>\n",
              "      <th>0</th>\n",
              "      <td>2018-03-25</td>\n",
              "      <td>1.36</td>\n",
              "    </tr>\n",
              "    <tr>\n",
              "      <th>0</th>\n",
              "      <td>2018-03-25</td>\n",
              "      <td>0.70</td>\n",
              "    </tr>\n",
              "    <tr>\n",
              "      <th>0</th>\n",
              "      <td>2018-03-25</td>\n",
              "      <td>1.42</td>\n",
              "    </tr>\n",
              "    <tr>\n",
              "      <th>0</th>\n",
              "      <td>2018-03-25</td>\n",
              "      <td>1.70</td>\n",
              "    </tr>\n",
              "    <tr>\n",
              "      <th>0</th>\n",
              "      <td>2018-03-25</td>\n",
              "      <td>1.34</td>\n",
              "    </tr>\n",
              "  </tbody>\n",
              "</table>\n",
              "<p>18249 rows × 2 columns</p>\n",
              "</div>"
            ],
            "text/plain": [
              "            ds     y\n",
              "51  2015-01-04  1.75\n",
              "51  2015-01-04  1.49\n",
              "51  2015-01-04  1.68\n",
              "51  2015-01-04  1.52\n",
              "51  2015-01-04  1.64\n",
              "..         ...   ...\n",
              "0   2018-03-25  1.36\n",
              "0   2018-03-25  0.70\n",
              "0   2018-03-25  1.42\n",
              "0   2018-03-25  1.70\n",
              "0   2018-03-25  1.34\n",
              "\n",
              "[18249 rows x 2 columns]"
            ]
          },
          "execution_count": 71,
          "metadata": {},
          "output_type": "execute_result"
        }
      ],
      "source": [
        "df_prophet"
      ]
    },
    {
      "cell_type": "code",
      "execution_count": 72,
      "metadata": {
        "id": "tcbTysaPlmm-"
      },
      "outputs": [],
      "source": [
        "# 2. 데이터를 학습시킨다."
      ]
    },
    {
      "cell_type": "code",
      "execution_count": 73,
      "metadata": {
        "id": "8otzJ_nIlmkR"
      },
      "outputs": [],
      "source": [
        "from prophet import Prophet"
      ]
    },
    {
      "cell_type": "code",
      "execution_count": 74,
      "metadata": {
        "id": "aHorLC5NlmhN"
      },
      "outputs": [],
      "source": [
        "m = Prophet()"
      ]
    },
    {
      "cell_type": "code",
      "execution_count": 75,
      "metadata": {
        "colab": {
          "base_uri": "https://localhost:8080/"
        },
        "id": "OO5kakwNlmeF",
        "outputId": "8c5ae2fe-d694-4a7e-9917-a117a5f45981"
      },
      "outputs": [
        {
          "name": "stderr",
          "output_type": "stream",
          "text": [
            "11:50:20 - cmdstanpy - INFO - Chain [1] start processing\n",
            "11:50:24 - cmdstanpy - INFO - Chain [1] done processing\n"
          ]
        },
        {
          "data": {
            "text/plain": [
              "<prophet.forecaster.Prophet at 0x1c9badcc9d0>"
            ]
          },
          "execution_count": 75,
          "metadata": {},
          "output_type": "execute_result"
        }
      ],
      "source": [
        "m.fit(df_prophet)"
      ]
    },
    {
      "cell_type": "code",
      "execution_count": 76,
      "metadata": {
        "id": "llYIx_DllmbH"
      },
      "outputs": [],
      "source": [
        "# 3. 예측에 사용할 데이터 프레임 만든다."
      ]
    },
    {
      "cell_type": "code",
      "execution_count": 77,
      "metadata": {
        "id": "JLEa2rYZmjMR"
      },
      "outputs": [],
      "source": [
        "future = m.make_future_dataframe(periods= 365, freq= 'D' )"
      ]
    },
    {
      "cell_type": "code",
      "execution_count": 98,
      "metadata": {},
      "outputs": [
        {
          "data": {
            "text/plain": [
              "169"
            ]
          },
          "execution_count": 98,
          "metadata": {},
          "output_type": "execute_result"
        }
      ],
      "source": [
        "df_prophet['ds'].nunique()"
      ]
    },
    {
      "cell_type": "code",
      "execution_count": 97,
      "metadata": {},
      "outputs": [
        {
          "data": {
            "text/html": [
              "<div>\n",
              "<style scoped>\n",
              "    .dataframe tbody tr th:only-of-type {\n",
              "        vertical-align: middle;\n",
              "    }\n",
              "\n",
              "    .dataframe tbody tr th {\n",
              "        vertical-align: top;\n",
              "    }\n",
              "\n",
              "    .dataframe thead th {\n",
              "        text-align: right;\n",
              "    }\n",
              "</style>\n",
              "<table border=\"1\" class=\"dataframe\">\n",
              "  <thead>\n",
              "    <tr style=\"text-align: right;\">\n",
              "      <th></th>\n",
              "      <th>ds</th>\n",
              "    </tr>\n",
              "  </thead>\n",
              "  <tbody>\n",
              "    <tr>\n",
              "      <th>0</th>\n",
              "      <td>2015-01-04</td>\n",
              "    </tr>\n",
              "    <tr>\n",
              "      <th>1</th>\n",
              "      <td>2015-01-11</td>\n",
              "    </tr>\n",
              "    <tr>\n",
              "      <th>2</th>\n",
              "      <td>2015-01-18</td>\n",
              "    </tr>\n",
              "    <tr>\n",
              "      <th>3</th>\n",
              "      <td>2015-01-25</td>\n",
              "    </tr>\n",
              "    <tr>\n",
              "      <th>4</th>\n",
              "      <td>2015-02-01</td>\n",
              "    </tr>\n",
              "    <tr>\n",
              "      <th>...</th>\n",
              "      <td>...</td>\n",
              "    </tr>\n",
              "    <tr>\n",
              "      <th>529</th>\n",
              "      <td>2019-03-21</td>\n",
              "    </tr>\n",
              "    <tr>\n",
              "      <th>530</th>\n",
              "      <td>2019-03-22</td>\n",
              "    </tr>\n",
              "    <tr>\n",
              "      <th>531</th>\n",
              "      <td>2019-03-23</td>\n",
              "    </tr>\n",
              "    <tr>\n",
              "      <th>532</th>\n",
              "      <td>2019-03-24</td>\n",
              "    </tr>\n",
              "    <tr>\n",
              "      <th>533</th>\n",
              "      <td>2019-03-25</td>\n",
              "    </tr>\n",
              "  </tbody>\n",
              "</table>\n",
              "<p>534 rows × 1 columns</p>\n",
              "</div>"
            ],
            "text/plain": [
              "            ds\n",
              "0   2015-01-04\n",
              "1   2015-01-11\n",
              "2   2015-01-18\n",
              "3   2015-01-25\n",
              "4   2015-02-01\n",
              "..         ...\n",
              "529 2019-03-21\n",
              "530 2019-03-22\n",
              "531 2019-03-23\n",
              "532 2019-03-24\n",
              "533 2019-03-25\n",
              "\n",
              "[534 rows x 1 columns]"
            ]
          },
          "execution_count": 97,
          "metadata": {},
          "output_type": "execute_result"
        }
      ],
      "source": [
        "future # 365일의 데이터를 더 만듬."
      ]
    },
    {
      "cell_type": "code",
      "execution_count": 78,
      "metadata": {
        "id": "XPZhGHrDmoSQ"
      },
      "outputs": [],
      "source": [
        "# 4. 예측한다."
      ]
    },
    {
      "cell_type": "code",
      "execution_count": 79,
      "metadata": {
        "id": "luZYXDeOmoNJ"
      },
      "outputs": [],
      "source": [
        "forecast = m.predict(future) # 학습한걸 토대로 원래 없던 365개의 데이터에 값을 넣음"
      ]
    },
    {
      "cell_type": "code",
      "execution_count": 80,
      "metadata": {
        "colab": {
          "base_uri": "https://localhost:8080/",
          "height": 661
        },
        "id": "tihJbTJgmjI6",
        "outputId": "679505f3-d6a1-4a1c-d472-807d29767ca4"
      },
      "outputs": [
        {
          "data": {
            "text/html": [
              "<div>\n",
              "<style scoped>\n",
              "    .dataframe tbody tr th:only-of-type {\n",
              "        vertical-align: middle;\n",
              "    }\n",
              "\n",
              "    .dataframe tbody tr th {\n",
              "        vertical-align: top;\n",
              "    }\n",
              "\n",
              "    .dataframe thead th {\n",
              "        text-align: right;\n",
              "    }\n",
              "</style>\n",
              "<table border=\"1\" class=\"dataframe\">\n",
              "  <thead>\n",
              "    <tr style=\"text-align: right;\">\n",
              "      <th></th>\n",
              "      <th>ds</th>\n",
              "      <th>trend</th>\n",
              "      <th>yhat_lower</th>\n",
              "      <th>yhat_upper</th>\n",
              "      <th>trend_lower</th>\n",
              "      <th>trend_upper</th>\n",
              "      <th>additive_terms</th>\n",
              "      <th>additive_terms_lower</th>\n",
              "      <th>additive_terms_upper</th>\n",
              "      <th>yearly</th>\n",
              "      <th>yearly_lower</th>\n",
              "      <th>yearly_upper</th>\n",
              "      <th>multiplicative_terms</th>\n",
              "      <th>multiplicative_terms_lower</th>\n",
              "      <th>multiplicative_terms_upper</th>\n",
              "      <th>yhat</th>\n",
              "    </tr>\n",
              "  </thead>\n",
              "  <tbody>\n",
              "    <tr>\n",
              "      <th>0</th>\n",
              "      <td>2015-01-04</td>\n",
              "      <td>1.497220</td>\n",
              "      <td>0.892909</td>\n",
              "      <td>1.849161</td>\n",
              "      <td>1.497220</td>\n",
              "      <td>1.497220</td>\n",
              "      <td>-0.112756</td>\n",
              "      <td>-0.112756</td>\n",
              "      <td>-0.112756</td>\n",
              "      <td>-0.112756</td>\n",
              "      <td>-0.112756</td>\n",
              "      <td>-0.112756</td>\n",
              "      <td>0.0</td>\n",
              "      <td>0.0</td>\n",
              "      <td>0.0</td>\n",
              "      <td>1.384464</td>\n",
              "    </tr>\n",
              "    <tr>\n",
              "      <th>1</th>\n",
              "      <td>2015-01-11</td>\n",
              "      <td>1.492220</td>\n",
              "      <td>0.903453</td>\n",
              "      <td>1.863774</td>\n",
              "      <td>1.492220</td>\n",
              "      <td>1.492220</td>\n",
              "      <td>-0.104283</td>\n",
              "      <td>-0.104283</td>\n",
              "      <td>-0.104283</td>\n",
              "      <td>-0.104283</td>\n",
              "      <td>-0.104283</td>\n",
              "      <td>-0.104283</td>\n",
              "      <td>0.0</td>\n",
              "      <td>0.0</td>\n",
              "      <td>0.0</td>\n",
              "      <td>1.387937</td>\n",
              "    </tr>\n",
              "    <tr>\n",
              "      <th>2</th>\n",
              "      <td>2015-01-18</td>\n",
              "      <td>1.487221</td>\n",
              "      <td>0.896885</td>\n",
              "      <td>1.869465</td>\n",
              "      <td>1.487221</td>\n",
              "      <td>1.487221</td>\n",
              "      <td>-0.103967</td>\n",
              "      <td>-0.103967</td>\n",
              "      <td>-0.103967</td>\n",
              "      <td>-0.103967</td>\n",
              "      <td>-0.103967</td>\n",
              "      <td>-0.103967</td>\n",
              "      <td>0.0</td>\n",
              "      <td>0.0</td>\n",
              "      <td>0.0</td>\n",
              "      <td>1.383254</td>\n",
              "    </tr>\n",
              "    <tr>\n",
              "      <th>3</th>\n",
              "      <td>2015-01-25</td>\n",
              "      <td>1.482221</td>\n",
              "      <td>0.900127</td>\n",
              "      <td>1.839935</td>\n",
              "      <td>1.482221</td>\n",
              "      <td>1.482221</td>\n",
              "      <td>-0.122958</td>\n",
              "      <td>-0.122958</td>\n",
              "      <td>-0.122958</td>\n",
              "      <td>-0.122958</td>\n",
              "      <td>-0.122958</td>\n",
              "      <td>-0.122958</td>\n",
              "      <td>0.0</td>\n",
              "      <td>0.0</td>\n",
              "      <td>0.0</td>\n",
              "      <td>1.359263</td>\n",
              "    </tr>\n",
              "    <tr>\n",
              "      <th>4</th>\n",
              "      <td>2015-02-01</td>\n",
              "      <td>1.477222</td>\n",
              "      <td>0.827096</td>\n",
              "      <td>1.836184</td>\n",
              "      <td>1.477222</td>\n",
              "      <td>1.477222</td>\n",
              "      <td>-0.151372</td>\n",
              "      <td>-0.151372</td>\n",
              "      <td>-0.151372</td>\n",
              "      <td>-0.151372</td>\n",
              "      <td>-0.151372</td>\n",
              "      <td>-0.151372</td>\n",
              "      <td>0.0</td>\n",
              "      <td>0.0</td>\n",
              "      <td>0.0</td>\n",
              "      <td>1.325850</td>\n",
              "    </tr>\n",
              "    <tr>\n",
              "      <th>...</th>\n",
              "      <td>...</td>\n",
              "      <td>...</td>\n",
              "      <td>...</td>\n",
              "      <td>...</td>\n",
              "      <td>...</td>\n",
              "      <td>...</td>\n",
              "      <td>...</td>\n",
              "      <td>...</td>\n",
              "      <td>...</td>\n",
              "      <td>...</td>\n",
              "      <td>...</td>\n",
              "      <td>...</td>\n",
              "      <td>...</td>\n",
              "      <td>...</td>\n",
              "      <td>...</td>\n",
              "      <td>...</td>\n",
              "    </tr>\n",
              "    <tr>\n",
              "      <th>529</th>\n",
              "      <td>2019-03-21</td>\n",
              "      <td>1.159300</td>\n",
              "      <td>0.555640</td>\n",
              "      <td>1.585659</td>\n",
              "      <td>0.975213</td>\n",
              "      <td>1.352869</td>\n",
              "      <td>-0.086201</td>\n",
              "      <td>-0.086201</td>\n",
              "      <td>-0.086201</td>\n",
              "      <td>-0.086201</td>\n",
              "      <td>-0.086201</td>\n",
              "      <td>-0.086201</td>\n",
              "      <td>0.0</td>\n",
              "      <td>0.0</td>\n",
              "      <td>0.0</td>\n",
              "      <td>1.073099</td>\n",
              "    </tr>\n",
              "    <tr>\n",
              "      <th>530</th>\n",
              "      <td>2019-03-22</td>\n",
              "      <td>1.158564</td>\n",
              "      <td>0.563221</td>\n",
              "      <td>1.593068</td>\n",
              "      <td>0.973273</td>\n",
              "      <td>1.352346</td>\n",
              "      <td>-0.084544</td>\n",
              "      <td>-0.084544</td>\n",
              "      <td>-0.084544</td>\n",
              "      <td>-0.084544</td>\n",
              "      <td>-0.084544</td>\n",
              "      <td>-0.084544</td>\n",
              "      <td>0.0</td>\n",
              "      <td>0.0</td>\n",
              "      <td>0.0</td>\n",
              "      <td>1.074019</td>\n",
              "    </tr>\n",
              "    <tr>\n",
              "      <th>531</th>\n",
              "      <td>2019-03-23</td>\n",
              "      <td>1.157828</td>\n",
              "      <td>0.539477</td>\n",
              "      <td>1.609798</td>\n",
              "      <td>0.971334</td>\n",
              "      <td>1.351733</td>\n",
              "      <td>-0.082616</td>\n",
              "      <td>-0.082616</td>\n",
              "      <td>-0.082616</td>\n",
              "      <td>-0.082616</td>\n",
              "      <td>-0.082616</td>\n",
              "      <td>-0.082616</td>\n",
              "      <td>0.0</td>\n",
              "      <td>0.0</td>\n",
              "      <td>0.0</td>\n",
              "      <td>1.075212</td>\n",
              "    </tr>\n",
              "    <tr>\n",
              "      <th>532</th>\n",
              "      <td>2019-03-24</td>\n",
              "      <td>1.157092</td>\n",
              "      <td>0.565514</td>\n",
              "      <td>1.587075</td>\n",
              "      <td>0.969394</td>\n",
              "      <td>1.352389</td>\n",
              "      <td>-0.080435</td>\n",
              "      <td>-0.080435</td>\n",
              "      <td>-0.080435</td>\n",
              "      <td>-0.080435</td>\n",
              "      <td>-0.080435</td>\n",
              "      <td>-0.080435</td>\n",
              "      <td>0.0</td>\n",
              "      <td>0.0</td>\n",
              "      <td>0.0</td>\n",
              "      <td>1.076657</td>\n",
              "    </tr>\n",
              "    <tr>\n",
              "      <th>533</th>\n",
              "      <td>2019-03-25</td>\n",
              "      <td>1.156356</td>\n",
              "      <td>0.561228</td>\n",
              "      <td>1.578639</td>\n",
              "      <td>0.967583</td>\n",
              "      <td>1.353524</td>\n",
              "      <td>-0.078029</td>\n",
              "      <td>-0.078029</td>\n",
              "      <td>-0.078029</td>\n",
              "      <td>-0.078029</td>\n",
              "      <td>-0.078029</td>\n",
              "      <td>-0.078029</td>\n",
              "      <td>0.0</td>\n",
              "      <td>0.0</td>\n",
              "      <td>0.0</td>\n",
              "      <td>1.078326</td>\n",
              "    </tr>\n",
              "  </tbody>\n",
              "</table>\n",
              "<p>534 rows × 16 columns</p>\n",
              "</div>"
            ],
            "text/plain": [
              "            ds     trend  yhat_lower  yhat_upper  trend_lower  trend_upper  \\\n",
              "0   2015-01-04  1.497220    0.892909    1.849161     1.497220     1.497220   \n",
              "1   2015-01-11  1.492220    0.903453    1.863774     1.492220     1.492220   \n",
              "2   2015-01-18  1.487221    0.896885    1.869465     1.487221     1.487221   \n",
              "3   2015-01-25  1.482221    0.900127    1.839935     1.482221     1.482221   \n",
              "4   2015-02-01  1.477222    0.827096    1.836184     1.477222     1.477222   \n",
              "..         ...       ...         ...         ...          ...          ...   \n",
              "529 2019-03-21  1.159300    0.555640    1.585659     0.975213     1.352869   \n",
              "530 2019-03-22  1.158564    0.563221    1.593068     0.973273     1.352346   \n",
              "531 2019-03-23  1.157828    0.539477    1.609798     0.971334     1.351733   \n",
              "532 2019-03-24  1.157092    0.565514    1.587075     0.969394     1.352389   \n",
              "533 2019-03-25  1.156356    0.561228    1.578639     0.967583     1.353524   \n",
              "\n",
              "     additive_terms  additive_terms_lower  additive_terms_upper    yearly  \\\n",
              "0         -0.112756             -0.112756             -0.112756 -0.112756   \n",
              "1         -0.104283             -0.104283             -0.104283 -0.104283   \n",
              "2         -0.103967             -0.103967             -0.103967 -0.103967   \n",
              "3         -0.122958             -0.122958             -0.122958 -0.122958   \n",
              "4         -0.151372             -0.151372             -0.151372 -0.151372   \n",
              "..              ...                   ...                   ...       ...   \n",
              "529       -0.086201             -0.086201             -0.086201 -0.086201   \n",
              "530       -0.084544             -0.084544             -0.084544 -0.084544   \n",
              "531       -0.082616             -0.082616             -0.082616 -0.082616   \n",
              "532       -0.080435             -0.080435             -0.080435 -0.080435   \n",
              "533       -0.078029             -0.078029             -0.078029 -0.078029   \n",
              "\n",
              "     yearly_lower  yearly_upper  multiplicative_terms  \\\n",
              "0       -0.112756     -0.112756                   0.0   \n",
              "1       -0.104283     -0.104283                   0.0   \n",
              "2       -0.103967     -0.103967                   0.0   \n",
              "3       -0.122958     -0.122958                   0.0   \n",
              "4       -0.151372     -0.151372                   0.0   \n",
              "..            ...           ...                   ...   \n",
              "529     -0.086201     -0.086201                   0.0   \n",
              "530     -0.084544     -0.084544                   0.0   \n",
              "531     -0.082616     -0.082616                   0.0   \n",
              "532     -0.080435     -0.080435                   0.0   \n",
              "533     -0.078029     -0.078029                   0.0   \n",
              "\n",
              "     multiplicative_terms_lower  multiplicative_terms_upper      yhat  \n",
              "0                           0.0                         0.0  1.384464  \n",
              "1                           0.0                         0.0  1.387937  \n",
              "2                           0.0                         0.0  1.383254  \n",
              "3                           0.0                         0.0  1.359263  \n",
              "4                           0.0                         0.0  1.325850  \n",
              "..                          ...                         ...       ...  \n",
              "529                         0.0                         0.0  1.073099  \n",
              "530                         0.0                         0.0  1.074019  \n",
              "531                         0.0                         0.0  1.075212  \n",
              "532                         0.0                         0.0  1.076657  \n",
              "533                         0.0                         0.0  1.078326  \n",
              "\n",
              "[534 rows x 16 columns]"
            ]
          },
          "execution_count": 80,
          "metadata": {},
          "output_type": "execute_result"
        }
      ],
      "source": [
        "forecast"
      ]
    },
    {
      "cell_type": "code",
      "execution_count": 81,
      "metadata": {
        "id": "5by_MRyDmjFm"
      },
      "outputs": [],
      "source": [
        "# 5. 예측 결과를 차트로 나타낸다."
      ]
    },
    {
      "cell_type": "code",
      "execution_count": 82,
      "metadata": {
        "colab": {
          "base_uri": "https://localhost:8080/",
          "height": 392
        },
        "id": "p2X3kPr9mjCe",
        "outputId": "0e9093d2-2953-4f08-fe8c-9c38ba26ec91"
      },
      "outputs": [
        {
          "data": {
            "image/png": "[encoded data removed]",
            "text/plain": [
              "<Figure size 1000x600 with 1 Axes>"
            ]
          },
          "metadata": {},
          "output_type": "display_data"
        }
      ],
      "source": [
        "m.plot(forecast, xlabel='Date', ylabel='Price') # 18년도 중순부터 데이터에 가격은 없지만 예측해서 그래프를 그려줌.\n",
        "plt.savefig('fig1.jpg')"
      ]
    },
    {
      "cell_type": "code",
      "execution_count": 83,
      "metadata": {
        "colab": {
          "base_uri": "https://localhost:8080/",
          "height": 436
        },
        "id": "mkgs_-FdXqwH",
        "outputId": "14956758-8ead-44e1-8b7c-16fc31dce8e0"
      },
      "outputs": [
        {
          "data": {
            "image/png": "[encoded data removed]",
            "text/plain": [
              "<Figure size 900x600 with 2 Axes>"
            ]
          },
          "metadata": {},
          "output_type": "display_data"
        }
      ],
      "source": [
        "m.plot_components(forecast)\n",
        "plt.savefig('fig2.jpg')"
      ]
    },
    {
      "cell_type": "code",
      "execution_count": null,
      "metadata": {
        "id": "Zu_kesLyowxL"
      },
      "outputs": [],
      "source": []
    },
    {
      "cell_type": "code",
      "execution_count": 84,
      "metadata": {
        "id": "pm-fFYs5owt4"
      },
      "outputs": [],
      "source": [
        "# 지금까지의 예측은, 미국 지역 전체에 대한 데이터 예측이었다.\n",
        "# West 지역은 어떨지 예측해 보시오."
      ]
    },
    {
      "cell_type": "code",
      "execution_count": 85,
      "metadata": {
        "colab": {
          "base_uri": "https://localhost:8080/"
        },
        "id": "P6obQ289owrI",
        "outputId": "7a0c96b3-8c1b-42b5-ed81-b05c6a0ee868"
      },
      "outputs": [
        {
          "data": {
            "text/plain": [
              "51    False\n",
              "51    False\n",
              "51    False\n",
              "51    False\n",
              "51    False\n",
              "      ...  \n",
              "0     False\n",
              "0     False\n",
              "0     False\n",
              "0     False\n",
              "0     False\n",
              "Name: region, Length: 18249, dtype: bool"
            ]
          },
          "execution_count": 85,
          "metadata": {},
          "output_type": "execute_result"
        }
      ],
      "source": [
        "df['region'] == 'West'"
      ]
    },
    {
      "cell_type": "code",
      "execution_count": 86,
      "metadata": {
        "id": "jLGzViqBy5Ea"
      },
      "outputs": [],
      "source": [
        "df_west = df.loc[  df['region'] == 'West'  ,  ]"
      ]
    },
    {
      "cell_type": "code",
      "execution_count": 87,
      "metadata": {
        "id": "hq2GYuWdzU18"
      },
      "outputs": [],
      "source": [
        "df_prophet = df_west[ ['Date','AveragePrice'] ]"
      ]
    },
    {
      "cell_type": "code",
      "execution_count": 88,
      "metadata": {
        "colab": {
          "base_uri": "https://localhost:8080/"
        },
        "id": "Jq_Ej7j7zUni",
        "outputId": "2bc9c414-29ba-4fb6-ddef-1aa741235f24"
      },
      "outputs": [
        {
          "name": "stderr",
          "output_type": "stream",
          "text": [
            "C:\\Users\\405\\AppData\\Local\\Temp\\ipykernel_4936\\1115952650.py:1: SettingWithCopyWarning: \n",
            "A value is trying to be set on a copy of a slice from a DataFrame\n",
            "\n",
            "See the caveats in the documentation: https://pandas.pydata.org/pandas-docs/stable/user_guide/indexing.html#returning-a-view-versus-a-copy\n",
            "  df_prophet.rename( columns={'Date':'ds' , 'AveragePrice':'y'} , inplace=True)\n"
          ]
        }
      ],
      "source": [
        "df_prophet.rename( columns={'Date':'ds' , 'AveragePrice':'y'} , inplace=True)"
      ]
    },
    {
      "cell_type": "code",
      "execution_count": 89,
      "metadata": {
        "colab": {
          "base_uri": "https://localhost:8080/",
          "height": 424
        },
        "id": "4OYjmj1Wzr2a",
        "outputId": "f9159f04-adad-420e-fc78-1e737c3562c1"
      },
      "outputs": [
        {
          "data": {
            "text/html": [
              "<div>\n",
              "<style scoped>\n",
              "    .dataframe tbody tr th:only-of-type {\n",
              "        vertical-align: middle;\n",
              "    }\n",
              "\n",
              "    .dataframe tbody tr th {\n",
              "        vertical-align: top;\n",
              "    }\n",
              "\n",
              "    .dataframe thead th {\n",
              "        text-align: right;\n",
              "    }\n",
              "</style>\n",
              "<table border=\"1\" class=\"dataframe\">\n",
              "  <thead>\n",
              "    <tr style=\"text-align: right;\">\n",
              "      <th></th>\n",
              "      <th>ds</th>\n",
              "      <th>y</th>\n",
              "    </tr>\n",
              "  </thead>\n",
              "  <tbody>\n",
              "    <tr>\n",
              "      <th>51</th>\n",
              "      <td>2015-01-04</td>\n",
              "      <td>1.40</td>\n",
              "    </tr>\n",
              "    <tr>\n",
              "      <th>51</th>\n",
              "      <td>2015-01-04</td>\n",
              "      <td>0.89</td>\n",
              "    </tr>\n",
              "    <tr>\n",
              "      <th>50</th>\n",
              "      <td>2015-01-11</td>\n",
              "      <td>1.39</td>\n",
              "    </tr>\n",
              "    <tr>\n",
              "      <th>50</th>\n",
              "      <td>2015-01-11</td>\n",
              "      <td>0.95</td>\n",
              "    </tr>\n",
              "    <tr>\n",
              "      <th>49</th>\n",
              "      <td>2015-01-18</td>\n",
              "      <td>0.96</td>\n",
              "    </tr>\n",
              "    <tr>\n",
              "      <th>...</th>\n",
              "      <td>...</td>\n",
              "      <td>...</td>\n",
              "    </tr>\n",
              "    <tr>\n",
              "      <th>2</th>\n",
              "      <td>2018-03-11</td>\n",
              "      <td>1.00</td>\n",
              "    </tr>\n",
              "    <tr>\n",
              "      <th>1</th>\n",
              "      <td>2018-03-18</td>\n",
              "      <td>1.73</td>\n",
              "    </tr>\n",
              "    <tr>\n",
              "      <th>1</th>\n",
              "      <td>2018-03-18</td>\n",
              "      <td>0.99</td>\n",
              "    </tr>\n",
              "    <tr>\n",
              "      <th>0</th>\n",
              "      <td>2018-03-25</td>\n",
              "      <td>0.93</td>\n",
              "    </tr>\n",
              "    <tr>\n",
              "      <th>0</th>\n",
              "      <td>2018-03-25</td>\n",
              "      <td>1.60</td>\n",
              "    </tr>\n",
              "  </tbody>\n",
              "</table>\n",
              "<p>338 rows × 2 columns</p>\n",
              "</div>"
            ],
            "text/plain": [
              "            ds     y\n",
              "51  2015-01-04  1.40\n",
              "51  2015-01-04  0.89\n",
              "50  2015-01-11  1.39\n",
              "50  2015-01-11  0.95\n",
              "49  2015-01-18  0.96\n",
              "..         ...   ...\n",
              "2   2018-03-11  1.00\n",
              "1   2018-03-18  1.73\n",
              "1   2018-03-18  0.99\n",
              "0   2018-03-25  0.93\n",
              "0   2018-03-25  1.60\n",
              "\n",
              "[338 rows x 2 columns]"
            ]
          },
          "execution_count": 89,
          "metadata": {},
          "output_type": "execute_result"
        }
      ],
      "source": [
        "df_prophet"
      ]
    },
    {
      "cell_type": "code",
      "execution_count": null,
      "metadata": {
        "id": "1FdDLK2MzrpK"
      },
      "outputs": [],
      "source": []
    },
    {
      "cell_type": "code",
      "execution_count": null,
      "metadata": {
        "id": "6fBHkO_fzrgq"
      },
      "outputs": [],
      "source": []
    },
    {
      "cell_type": "code",
      "execution_count": 90,
      "metadata": {
        "id": "dHWA6-Aby5BS"
      },
      "outputs": [],
      "source": [
        "m2 = Prophet()"
      ]
    },
    {
      "cell_type": "code",
      "execution_count": 91,
      "metadata": {
        "colab": {
          "base_uri": "https://localhost:8080/"
        },
        "id": "ksiNpSwYzL4D",
        "outputId": "0a0276cd-73de-4516-eff0-38746568c104"
      },
      "outputs": [
        {
          "name": "stderr",
          "output_type": "stream",
          "text": [
            "11:50:26 - cmdstanpy - INFO - Chain [1] start processing\n",
            "11:50:26 - cmdstanpy - INFO - Chain [1] done processing\n"
          ]
        },
        {
          "data": {
            "text/plain": [
              "<prophet.forecaster.Prophet at 0x1c9bccd0070>"
            ]
          },
          "execution_count": 91,
          "metadata": {},
          "output_type": "execute_result"
        }
      ],
      "source": [
        "m2.fit(df_prophet)"
      ]
    },
    {
      "cell_type": "code",
      "execution_count": 92,
      "metadata": {
        "id": "yMO58lNPzLzC"
      },
      "outputs": [],
      "source": [
        "future2 = m2.make_future_dataframe(periods= 365, freq='D')"
      ]
    },
    {
      "cell_type": "code",
      "execution_count": 93,
      "metadata": {
        "id": "XWh7AqF4y4-S"
      },
      "outputs": [],
      "source": [
        "forecast2 = m2.predict(future2)"
      ]
    },
    {
      "cell_type": "code",
      "execution_count": 94,
      "metadata": {
        "colab": {
          "base_uri": "https://localhost:8080/",
          "height": 392
        },
        "id": "F0o8chV9y47f",
        "outputId": "8037de96-4326-403c-c83f-83153f127730"
      },
      "outputs": [
        {
          "data": {
            "image/png": "[encoded data removed]",
            "text/plain": [
              "<Figure size 1000x600 with 1 Axes>"
            ]
          },
          "metadata": {},
          "output_type": "display_data"
        }
      ],
      "source": [
        "m2.plot(forecast2)\n",
        "plt.savefig('fig3.jpg')"
      ]
    },
    {
      "cell_type": "code",
      "execution_count": 96,
      "metadata": {
        "colab": {
          "base_uri": "https://localhost:8080/",
          "height": 436
        },
        "id": "_epP7Wvzy44p",
        "outputId": "b2d74137-8d29-4918-8b58-0ac9c24047fa"
      },
      "outputs": [
        {
          "data": {
            "image/png": "[encoded data removed]",
            "text/plain": [
              "<Figure size 900x600 with 2 Axes>"
            ]
          },
          "metadata": {},
          "output_type": "display_data"
        }
      ],
      "source": [
        "m2.plot_components(forecast2)\n",
        "plt.savefig('fig4.jpg')"
      ]
    },
    {
      "cell_type": "code",
      "execution_count": null,
      "metadata": {
        "id": "7bDFzuLKy41b"
      },
      "outputs": [],
      "source": []
    },
    {
      "cell_type": "code",
      "execution_count": null,
      "metadata": {
        "id": "gBqnjvLKy4yt"
      },
      "outputs": [],
      "source": []
    },
    {
      "cell_type": "code",
      "execution_count": null,
      "metadata": {
        "id": "VX74PaRSy4vb"
      },
      "outputs": [],
      "source": []
    },
    {
      "cell_type": "code",
      "execution_count": null,
      "metadata": {
        "id": "fnvG0Fiey4sK"
      },
      "outputs": [],
      "source": []
    },
    {
      "cell_type": "code",
      "execution_count": null,
      "metadata": {
        "id": "gbmvXs17y4pL"
      },
      "outputs": [],
      "source": []
    },
    {
      "cell_type": "code",
      "execution_count": null,
      "metadata": {
        "id": "uFfSSW50y4l6"
      },
      "outputs": [],
      "source": []
    },
    {
      "cell_type": "code",
      "execution_count": null,
      "metadata": {
        "id": "UoF03XFzy4is"
      },
      "outputs": [],
      "source": []
    },
    {
      "cell_type": "code",
      "execution_count": null,
      "metadata": {
        "id": "r92Ic-Sun0Q4"
      },
      "outputs": [],
      "source": []
    }
  ],
  "metadata": {
    "colab": {
      "provenance": []
    },
    "kernelspec": {
      "display_name": "Python 3",
      "name": "python3"
    },
    "language_info": {
      "name": "python",
      "version": "3.9.16"
    }
  },
  "nbformat": 4,
  "nbformat_minor": 0
}
