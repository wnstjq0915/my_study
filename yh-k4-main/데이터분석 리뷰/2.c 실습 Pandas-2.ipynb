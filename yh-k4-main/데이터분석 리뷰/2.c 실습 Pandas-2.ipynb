{
 "cells": [
  {
   "attachments": {},
   "cell_type": "markdown",
   "metadata": {},
   "source": [
    "winemag-data.csv 파일을 reviews 로 읽는다."
   ]
  },
  {
   "cell_type": "code",
   "execution_count": 1,
   "metadata": {},
   "outputs": [],
   "source": [
    "import pandas as pd"
   ]
  },
  {
   "cell_type": "code",
   "execution_count": 131,
   "metadata": {},
   "outputs": [
    {
     "data": {
      "text/html": [
       "<div>\n",
       "<style scoped>\n",
       "    .dataframe tbody tr th:only-of-type {\n",
       "        vertical-align: middle;\n",
       "    }\n",
       "\n",
       "    .dataframe tbody tr th {\n",
       "        vertical-align: top;\n",
       "    }\n",
       "\n",
       "    .dataframe thead th {\n",
       "        text-align: right;\n",
       "    }\n",
       "</style>\n",
       "<table border=\"1\" class=\"dataframe\">\n",
       "  <thead>\n",
       "    <tr style=\"text-align: right;\">\n",
       "      <th></th>\n",
       "      <th>country</th>\n",
       "      <th>description</th>\n",
       "      <th>designation</th>\n",
       "      <th>points</th>\n",
       "      <th>price</th>\n",
       "      <th>province</th>\n",
       "      <th>region_1</th>\n",
       "      <th>region_2</th>\n",
       "      <th>taster_name</th>\n",
       "      <th>taster_twitter_handle</th>\n",
       "      <th>title</th>\n",
       "      <th>variety</th>\n",
       "      <th>winery</th>\n",
       "    </tr>\n",
       "  </thead>\n",
       "  <tbody>\n",
       "    <tr>\n",
       "      <th>0</th>\n",
       "      <td>Italy</td>\n",
       "      <td>Aromas include tropical fruit, broom, brimston...</td>\n",
       "      <td>Vulkà Bianco</td>\n",
       "      <td>87</td>\n",
       "      <td>NaN</td>\n",
       "      <td>Sicily &amp; Sardinia</td>\n",
       "      <td>Etna</td>\n",
       "      <td>NaN</td>\n",
       "      <td>Kerin O’Keefe</td>\n",
       "      <td>@kerinokeefe</td>\n",
       "      <td>Nicosia 2013 Vulkà Bianco  (Etna)</td>\n",
       "      <td>White Blend</td>\n",
       "      <td>Nicosia</td>\n",
       "    </tr>\n",
       "    <tr>\n",
       "      <th>1</th>\n",
       "      <td>Portugal</td>\n",
       "      <td>This is ripe and fruity, a wine that is smooth...</td>\n",
       "      <td>Avidagos</td>\n",
       "      <td>87</td>\n",
       "      <td>15.0</td>\n",
       "      <td>Douro</td>\n",
       "      <td>NaN</td>\n",
       "      <td>NaN</td>\n",
       "      <td>Roger Voss</td>\n",
       "      <td>@vossroger</td>\n",
       "      <td>Quinta dos Avidagos 2011 Avidagos Red (Douro)</td>\n",
       "      <td>Portuguese Red</td>\n",
       "      <td>Quinta dos Avidagos</td>\n",
       "    </tr>\n",
       "  </tbody>\n",
       "</table>\n",
       "</div>"
      ],
      "text/plain": [
       "    country                                        description   designation   \n",
       "0     Italy  Aromas include tropical fruit, broom, brimston...  Vulkà Bianco  \\\n",
       "1  Portugal  This is ripe and fruity, a wine that is smooth...      Avidagos   \n",
       "\n",
       "   points  price           province region_1 region_2    taster_name   \n",
       "0      87    NaN  Sicily & Sardinia     Etna      NaN  Kerin O’Keefe  \\\n",
       "1      87   15.0              Douro      NaN      NaN     Roger Voss   \n",
       "\n",
       "  taster_twitter_handle                                          title   \n",
       "0          @kerinokeefe              Nicosia 2013 Vulkà Bianco  (Etna)  \\\n",
       "1            @vossroger  Quinta dos Avidagos 2011 Avidagos Red (Douro)   \n",
       "\n",
       "          variety               winery  \n",
       "0     White Blend              Nicosia  \n",
       "1  Portuguese Red  Quinta dos Avidagos  "
      ]
     },
     "execution_count": 131,
     "metadata": {},
     "output_type": "execute_result"
    }
   ],
   "source": [
    "reviews = pd.read_csv('../data/winemag-data.csv', index_col=0)\n",
    "reviews.head(2)"
   ]
  },
  {
   "attachments": {},
   "cell_type": "markdown",
   "metadata": {},
   "source": [
    "인덱스를 title 컬럼으로 셋팅한다."
   ]
  },
  {
   "cell_type": "code",
   "execution_count": 130,
   "metadata": {},
   "outputs": [
    {
     "data": {
      "text/html": [
       "<div>\n",
       "<style scoped>\n",
       "    .dataframe tbody tr th:only-of-type {\n",
       "        vertical-align: middle;\n",
       "    }\n",
       "\n",
       "    .dataframe tbody tr th {\n",
       "        vertical-align: top;\n",
       "    }\n",
       "\n",
       "    .dataframe thead th {\n",
       "        text-align: right;\n",
       "    }\n",
       "</style>\n",
       "<table border=\"1\" class=\"dataframe\">\n",
       "  <thead>\n",
       "    <tr style=\"text-align: right;\">\n",
       "      <th></th>\n",
       "      <th>country</th>\n",
       "      <th>description</th>\n",
       "      <th>designation</th>\n",
       "      <th>points</th>\n",
       "      <th>price</th>\n",
       "      <th>province</th>\n",
       "      <th>region_1</th>\n",
       "      <th>region_2</th>\n",
       "      <th>taster_name</th>\n",
       "      <th>taster_twitter_handle</th>\n",
       "      <th>title</th>\n",
       "      <th>variety</th>\n",
       "      <th>winery</th>\n",
       "    </tr>\n",
       "    <tr>\n",
       "      <th>title</th>\n",
       "      <th></th>\n",
       "      <th></th>\n",
       "      <th></th>\n",
       "      <th></th>\n",
       "      <th></th>\n",
       "      <th></th>\n",
       "      <th></th>\n",
       "      <th></th>\n",
       "      <th></th>\n",
       "      <th></th>\n",
       "      <th></th>\n",
       "      <th></th>\n",
       "      <th></th>\n",
       "    </tr>\n",
       "  </thead>\n",
       "  <tbody>\n",
       "    <tr>\n",
       "      <th>Nicosia 2013 Vulkà Bianco  (Etna)</th>\n",
       "      <td>Italy</td>\n",
       "      <td>Aromas include tropical fruit, broom, brimston...</td>\n",
       "      <td>Vulkà Bianco</td>\n",
       "      <td>87</td>\n",
       "      <td>NaN</td>\n",
       "      <td>Sicily &amp; Sardinia</td>\n",
       "      <td>Etna</td>\n",
       "      <td>NaN</td>\n",
       "      <td>Kerin O’Keefe</td>\n",
       "      <td>@kerinokeefe</td>\n",
       "      <td>Nicosia 2013 Vulkà Bianco  (Etna)</td>\n",
       "      <td>White Blend</td>\n",
       "      <td>Nicosia</td>\n",
       "    </tr>\n",
       "    <tr>\n",
       "      <th>Quinta dos Avidagos 2011 Avidagos Red (Douro)</th>\n",
       "      <td>Portugal</td>\n",
       "      <td>This is ripe and fruity, a wine that is smooth...</td>\n",
       "      <td>Avidagos</td>\n",
       "      <td>87</td>\n",
       "      <td>15.0</td>\n",
       "      <td>Douro</td>\n",
       "      <td>NaN</td>\n",
       "      <td>NaN</td>\n",
       "      <td>Roger Voss</td>\n",
       "      <td>@vossroger</td>\n",
       "      <td>Quinta dos Avidagos 2011 Avidagos Red (Douro)</td>\n",
       "      <td>Portuguese Red</td>\n",
       "      <td>Quinta dos Avidagos</td>\n",
       "    </tr>\n",
       "  </tbody>\n",
       "</table>\n",
       "</div>"
      ],
      "text/plain": [
       "                                                country   \n",
       "title                                                     \n",
       "Nicosia 2013 Vulkà Bianco  (Etna)                 Italy  \\\n",
       "Quinta dos Avidagos 2011 Avidagos Red (Douro)  Portugal   \n",
       "\n",
       "                                                                                     description   \n",
       "title                                                                                              \n",
       "Nicosia 2013 Vulkà Bianco  (Etna)              Aromas include tropical fruit, broom, brimston...  \\\n",
       "Quinta dos Avidagos 2011 Avidagos Red (Douro)  This is ripe and fruity, a wine that is smooth...   \n",
       "\n",
       "                                                designation  points  price   \n",
       "title                                                                        \n",
       "Nicosia 2013 Vulkà Bianco  (Etna)              Vulkà Bianco      87    NaN  \\\n",
       "Quinta dos Avidagos 2011 Avidagos Red (Douro)      Avidagos      87   15.0   \n",
       "\n",
       "                                                        province region_1   \n",
       "title                                                                       \n",
       "Nicosia 2013 Vulkà Bianco  (Etna)              Sicily & Sardinia     Etna  \\\n",
       "Quinta dos Avidagos 2011 Avidagos Red (Douro)              Douro      NaN   \n",
       "\n",
       "                                              region_2    taster_name   \n",
       "title                                                                   \n",
       "Nicosia 2013 Vulkà Bianco  (Etna)                  NaN  Kerin O’Keefe  \\\n",
       "Quinta dos Avidagos 2011 Avidagos Red (Douro)      NaN     Roger Voss   \n",
       "\n",
       "                                              taster_twitter_handle   \n",
       "title                                                                 \n",
       "Nicosia 2013 Vulkà Bianco  (Etna)                      @kerinokeefe  \\\n",
       "Quinta dos Avidagos 2011 Avidagos Red (Douro)            @vossroger   \n",
       "\n",
       "                                                                                       title   \n",
       "title                                                                                          \n",
       "Nicosia 2013 Vulkà Bianco  (Etna)                          Nicosia 2013 Vulkà Bianco  (Etna)  \\\n",
       "Quinta dos Avidagos 2011 Avidagos Red (Douro)  Quinta dos Avidagos 2011 Avidagos Red (Douro)   \n",
       "\n",
       "                                                      variety   \n",
       "title                                                           \n",
       "Nicosia 2013 Vulkà Bianco  (Etna)                 White Blend  \\\n",
       "Quinta dos Avidagos 2011 Avidagos Red (Douro)  Portuguese Red   \n",
       "\n",
       "                                                            winery  \n",
       "title                                                               \n",
       "Nicosia 2013 Vulkà Bianco  (Etna)                          Nicosia  \n",
       "Quinta dos Avidagos 2011 Avidagos Red (Douro)  Quinta dos Avidagos  "
      ]
     },
     "execution_count": 130,
     "metadata": {},
     "output_type": "execute_result"
    }
   ],
   "source": [
    "reviews.set_index(reviews['title'], inplace=True) # title을 인덱스로 설정. 설정과 동시에 지우는 것도 찾아보기\n",
    "reviews.drop('title', axis=1, inplace=True) # 앞에는 지울거, 뒤에 axis는 행을 지울지 열을 지울지.\n",
    "reviews.head(2)"
   ]
  },
  {
   "cell_type": "code",
   "execution_count": null,
   "metadata": {},
   "outputs": [],
   "source": []
  },
  {
   "attachments": {},
   "cell_type": "markdown",
   "metadata": {},
   "source": [
    "먼저 데이터가 비어있느것이 있는지 확인한다."
   ]
  },
  {
   "cell_type": "code",
   "execution_count": null,
   "metadata": {},
   "outputs": [],
   "source": [
    "# reviews.isna() # 데이터가 없으면 트루\n",
    "# reviews.notna() # 데이터가 있으면 트루"
   ]
  },
  {
   "cell_type": "code",
   "execution_count": 53,
   "metadata": {},
   "outputs": [
    {
     "data": {
      "text/plain": [
       "country                     63\n",
       "description                  0\n",
       "designation              37465\n",
       "points                       0\n",
       "price                     8996\n",
       "province                    63\n",
       "region_1                 21247\n",
       "region_2                 79460\n",
       "taster_name              26244\n",
       "taster_twitter_handle    31213\n",
       "variety                      1\n",
       "winery                       0\n",
       "dtype: int64"
      ]
     },
     "execution_count": 53,
     "metadata": {},
     "output_type": "execute_result"
    }
   ],
   "source": [
    "reviews.isnull().sum()"
   ]
  },
  {
   "cell_type": "code",
   "execution_count": null,
   "metadata": {},
   "outputs": [],
   "source": []
  },
  {
   "attachments": {},
   "cell_type": "markdown",
   "metadata": {},
   "source": [
    "그리고나서, 가격이 없는 데이터는 빼고, 데이터셋을 가져온다."
   ]
  },
  {
   "cell_type": "code",
   "execution_count": 105,
   "metadata": {},
   "outputs": [
    {
     "data": {
      "text/html": [
       "<div>\n",
       "<style scoped>\n",
       "    .dataframe tbody tr th:only-of-type {\n",
       "        vertical-align: middle;\n",
       "    }\n",
       "\n",
       "    .dataframe tbody tr th {\n",
       "        vertical-align: top;\n",
       "    }\n",
       "\n",
       "    .dataframe thead th {\n",
       "        text-align: right;\n",
       "    }\n",
       "</style>\n",
       "<table border=\"1\" class=\"dataframe\">\n",
       "  <thead>\n",
       "    <tr style=\"text-align: right;\">\n",
       "      <th></th>\n",
       "      <th>country</th>\n",
       "      <th>description</th>\n",
       "      <th>designation</th>\n",
       "      <th>points</th>\n",
       "      <th>price</th>\n",
       "      <th>province</th>\n",
       "      <th>region_1</th>\n",
       "      <th>region_2</th>\n",
       "      <th>taster_name</th>\n",
       "      <th>taster_twitter_handle</th>\n",
       "      <th>variety</th>\n",
       "      <th>winery</th>\n",
       "    </tr>\n",
       "    <tr>\n",
       "      <th>title</th>\n",
       "      <th></th>\n",
       "      <th></th>\n",
       "      <th></th>\n",
       "      <th></th>\n",
       "      <th></th>\n",
       "      <th></th>\n",
       "      <th></th>\n",
       "      <th></th>\n",
       "      <th></th>\n",
       "      <th></th>\n",
       "      <th></th>\n",
       "      <th></th>\n",
       "    </tr>\n",
       "  </thead>\n",
       "  <tbody>\n",
       "    <tr>\n",
       "      <th>Quinta dos Avidagos 2011 Avidagos Red (Douro)</th>\n",
       "      <td>Portugal</td>\n",
       "      <td>This is ripe and fruity, a wine that is smooth...</td>\n",
       "      <td>Avidagos</td>\n",
       "      <td>87</td>\n",
       "      <td>15.0</td>\n",
       "      <td>Douro</td>\n",
       "      <td>NaN</td>\n",
       "      <td>NaN</td>\n",
       "      <td>Roger Voss</td>\n",
       "      <td>@vossroger</td>\n",
       "      <td>Portuguese Red</td>\n",
       "      <td>Quinta dos Avidagos</td>\n",
       "    </tr>\n",
       "    <tr>\n",
       "      <th>Rainstorm 2013 Pinot Gris (Willamette Valley)</th>\n",
       "      <td>US</td>\n",
       "      <td>Tart and snappy, the flavors of lime flesh and...</td>\n",
       "      <td>NaN</td>\n",
       "      <td>87</td>\n",
       "      <td>14.0</td>\n",
       "      <td>Oregon</td>\n",
       "      <td>Willamette Valley</td>\n",
       "      <td>Willamette Valley</td>\n",
       "      <td>Paul Gregutt</td>\n",
       "      <td>@paulgwine</td>\n",
       "      <td>Pinot Gris</td>\n",
       "      <td>Rainstorm</td>\n",
       "    </tr>\n",
       "  </tbody>\n",
       "</table>\n",
       "</div>"
      ],
      "text/plain": [
       "                                                country   \n",
       "title                                                     \n",
       "Quinta dos Avidagos 2011 Avidagos Red (Douro)  Portugal  \\\n",
       "Rainstorm 2013 Pinot Gris (Willamette Valley)        US   \n",
       "\n",
       "                                                                                     description   \n",
       "title                                                                                              \n",
       "Quinta dos Avidagos 2011 Avidagos Red (Douro)  This is ripe and fruity, a wine that is smooth...  \\\n",
       "Rainstorm 2013 Pinot Gris (Willamette Valley)  Tart and snappy, the flavors of lime flesh and...   \n",
       "\n",
       "                                              designation  points  price   \n",
       "title                                                                      \n",
       "Quinta dos Avidagos 2011 Avidagos Red (Douro)    Avidagos      87   15.0  \\\n",
       "Rainstorm 2013 Pinot Gris (Willamette Valley)         NaN      87   14.0   \n",
       "\n",
       "                                              province           region_1   \n",
       "title                                                                       \n",
       "Quinta dos Avidagos 2011 Avidagos Red (Douro)    Douro                NaN  \\\n",
       "Rainstorm 2013 Pinot Gris (Willamette Valley)   Oregon  Willamette Valley   \n",
       "\n",
       "                                                        region_2   \n",
       "title                                                              \n",
       "Quinta dos Avidagos 2011 Avidagos Red (Douro)                NaN  \\\n",
       "Rainstorm 2013 Pinot Gris (Willamette Valley)  Willamette Valley   \n",
       "\n",
       "                                                taster_name   \n",
       "title                                                         \n",
       "Quinta dos Avidagos 2011 Avidagos Red (Douro)    Roger Voss  \\\n",
       "Rainstorm 2013 Pinot Gris (Willamette Valley)  Paul Gregutt   \n",
       "\n",
       "                                              taster_twitter_handle   \n",
       "title                                                                 \n",
       "Quinta dos Avidagos 2011 Avidagos Red (Douro)            @vossroger  \\\n",
       "Rainstorm 2013 Pinot Gris (Willamette Valley)           @paulgwine    \n",
       "\n",
       "                                                      variety   \n",
       "title                                                           \n",
       "Quinta dos Avidagos 2011 Avidagos Red (Douro)  Portuguese Red  \\\n",
       "Rainstorm 2013 Pinot Gris (Willamette Valley)      Pinot Gris   \n",
       "\n",
       "                                                            winery  \n",
       "title                                                               \n",
       "Quinta dos Avidagos 2011 Avidagos Red (Douro)  Quinta dos Avidagos  \n",
       "Rainstorm 2013 Pinot Gris (Willamette Valley)            Rainstorm  "
      ]
     },
     "execution_count": 105,
     "metadata": {},
     "output_type": "execute_result"
    }
   ],
   "source": [
    "reviews = reviews[reviews['price'].notna()]\n",
    "reviews.head(2)"
   ]
  },
  {
   "attachments": {},
   "cell_type": "markdown",
   "metadata": {},
   "source": [
    "리뷰에 새로운 컬럼 critic 만들고, everyone 이라고 값 넣는다."
   ]
  },
  {
   "cell_type": "code",
   "execution_count": 106,
   "metadata": {},
   "outputs": [
    {
     "data": {
      "text/html": [
       "<div>\n",
       "<style scoped>\n",
       "    .dataframe tbody tr th:only-of-type {\n",
       "        vertical-align: middle;\n",
       "    }\n",
       "\n",
       "    .dataframe tbody tr th {\n",
       "        vertical-align: top;\n",
       "    }\n",
       "\n",
       "    .dataframe thead th {\n",
       "        text-align: right;\n",
       "    }\n",
       "</style>\n",
       "<table border=\"1\" class=\"dataframe\">\n",
       "  <thead>\n",
       "    <tr style=\"text-align: right;\">\n",
       "      <th></th>\n",
       "      <th>country</th>\n",
       "      <th>description</th>\n",
       "      <th>designation</th>\n",
       "      <th>points</th>\n",
       "      <th>price</th>\n",
       "      <th>province</th>\n",
       "      <th>region_1</th>\n",
       "      <th>region_2</th>\n",
       "      <th>taster_name</th>\n",
       "      <th>taster_twitter_handle</th>\n",
       "      <th>variety</th>\n",
       "      <th>winery</th>\n",
       "      <th>critic</th>\n",
       "    </tr>\n",
       "    <tr>\n",
       "      <th>title</th>\n",
       "      <th></th>\n",
       "      <th></th>\n",
       "      <th></th>\n",
       "      <th></th>\n",
       "      <th></th>\n",
       "      <th></th>\n",
       "      <th></th>\n",
       "      <th></th>\n",
       "      <th></th>\n",
       "      <th></th>\n",
       "      <th></th>\n",
       "      <th></th>\n",
       "      <th></th>\n",
       "    </tr>\n",
       "  </thead>\n",
       "  <tbody>\n",
       "    <tr>\n",
       "      <th>Quinta dos Avidagos 2011 Avidagos Red (Douro)</th>\n",
       "      <td>Portugal</td>\n",
       "      <td>This is ripe and fruity, a wine that is smooth...</td>\n",
       "      <td>Avidagos</td>\n",
       "      <td>87</td>\n",
       "      <td>15.0</td>\n",
       "      <td>Douro</td>\n",
       "      <td>NaN</td>\n",
       "      <td>NaN</td>\n",
       "      <td>Roger Voss</td>\n",
       "      <td>@vossroger</td>\n",
       "      <td>Portuguese Red</td>\n",
       "      <td>Quinta dos Avidagos</td>\n",
       "      <td>everyone</td>\n",
       "    </tr>\n",
       "    <tr>\n",
       "      <th>Rainstorm 2013 Pinot Gris (Willamette Valley)</th>\n",
       "      <td>US</td>\n",
       "      <td>Tart and snappy, the flavors of lime flesh and...</td>\n",
       "      <td>NaN</td>\n",
       "      <td>87</td>\n",
       "      <td>14.0</td>\n",
       "      <td>Oregon</td>\n",
       "      <td>Willamette Valley</td>\n",
       "      <td>Willamette Valley</td>\n",
       "      <td>Paul Gregutt</td>\n",
       "      <td>@paulgwine</td>\n",
       "      <td>Pinot Gris</td>\n",
       "      <td>Rainstorm</td>\n",
       "      <td>everyone</td>\n",
       "    </tr>\n",
       "    <tr>\n",
       "      <th>St. Julian 2013 Reserve Late Harvest Riesling (Lake Michigan Shore)</th>\n",
       "      <td>US</td>\n",
       "      <td>Pineapple rind, lemon pith and orange blossom ...</td>\n",
       "      <td>Reserve Late Harvest</td>\n",
       "      <td>87</td>\n",
       "      <td>13.0</td>\n",
       "      <td>Michigan</td>\n",
       "      <td>Lake Michigan Shore</td>\n",
       "      <td>NaN</td>\n",
       "      <td>Alexander Peartree</td>\n",
       "      <td>NaN</td>\n",
       "      <td>Riesling</td>\n",
       "      <td>St. Julian</td>\n",
       "      <td>everyone</td>\n",
       "    </tr>\n",
       "    <tr>\n",
       "      <th>Sweet Cheeks 2012 Vintner's Reserve Wild Child Block Pinot Noir (Willamette Valley)</th>\n",
       "      <td>US</td>\n",
       "      <td>Much like the regular bottling from 2012, this...</td>\n",
       "      <td>Vintner's Reserve Wild Child Block</td>\n",
       "      <td>87</td>\n",
       "      <td>65.0</td>\n",
       "      <td>Oregon</td>\n",
       "      <td>Willamette Valley</td>\n",
       "      <td>Willamette Valley</td>\n",
       "      <td>Paul Gregutt</td>\n",
       "      <td>@paulgwine</td>\n",
       "      <td>Pinot Noir</td>\n",
       "      <td>Sweet Cheeks</td>\n",
       "      <td>everyone</td>\n",
       "    </tr>\n",
       "    <tr>\n",
       "      <th>Tandem 2011 Ars In Vitro Tempranillo-Merlot (Navarra)</th>\n",
       "      <td>Spain</td>\n",
       "      <td>Blackberry and raspberry aromas show a typical...</td>\n",
       "      <td>Ars In Vitro</td>\n",
       "      <td>87</td>\n",
       "      <td>15.0</td>\n",
       "      <td>Northern Spain</td>\n",
       "      <td>Navarra</td>\n",
       "      <td>NaN</td>\n",
       "      <td>Michael Schachner</td>\n",
       "      <td>@wineschach</td>\n",
       "      <td>Tempranillo-Merlot</td>\n",
       "      <td>Tandem</td>\n",
       "      <td>everyone</td>\n",
       "    </tr>\n",
       "  </tbody>\n",
       "</table>\n",
       "</div>"
      ],
      "text/plain": [
       "                                                     country   \n",
       "title                                                          \n",
       "Quinta dos Avidagos 2011 Avidagos Red (Douro)       Portugal  \\\n",
       "Rainstorm 2013 Pinot Gris (Willamette Valley)             US   \n",
       "St. Julian 2013 Reserve Late Harvest Riesling (...        US   \n",
       "Sweet Cheeks 2012 Vintner's Reserve Wild Child ...        US   \n",
       "Tandem 2011 Ars In Vitro Tempranillo-Merlot (Na...     Spain   \n",
       "\n",
       "                                                                                          description   \n",
       "title                                                                                                   \n",
       "Quinta dos Avidagos 2011 Avidagos Red (Douro)       This is ripe and fruity, a wine that is smooth...  \\\n",
       "Rainstorm 2013 Pinot Gris (Willamette Valley)       Tart and snappy, the flavors of lime flesh and...   \n",
       "St. Julian 2013 Reserve Late Harvest Riesling (...  Pineapple rind, lemon pith and orange blossom ...   \n",
       "Sweet Cheeks 2012 Vintner's Reserve Wild Child ...  Much like the regular bottling from 2012, this...   \n",
       "Tandem 2011 Ars In Vitro Tempranillo-Merlot (Na...  Blackberry and raspberry aromas show a typical...   \n",
       "\n",
       "                                                                           designation   \n",
       "title                                                                                    \n",
       "Quinta dos Avidagos 2011 Avidagos Red (Douro)                                 Avidagos  \\\n",
       "Rainstorm 2013 Pinot Gris (Willamette Valley)                                      NaN   \n",
       "St. Julian 2013 Reserve Late Harvest Riesling (...                Reserve Late Harvest   \n",
       "Sweet Cheeks 2012 Vintner's Reserve Wild Child ...  Vintner's Reserve Wild Child Block   \n",
       "Tandem 2011 Ars In Vitro Tempranillo-Merlot (Na...                        Ars In Vitro   \n",
       "\n",
       "                                                    points  price   \n",
       "title                                                               \n",
       "Quinta dos Avidagos 2011 Avidagos Red (Douro)           87   15.0  \\\n",
       "Rainstorm 2013 Pinot Gris (Willamette Valley)           87   14.0   \n",
       "St. Julian 2013 Reserve Late Harvest Riesling (...      87   13.0   \n",
       "Sweet Cheeks 2012 Vintner's Reserve Wild Child ...      87   65.0   \n",
       "Tandem 2011 Ars In Vitro Tempranillo-Merlot (Na...      87   15.0   \n",
       "\n",
       "                                                          province   \n",
       "title                                                                \n",
       "Quinta dos Avidagos 2011 Avidagos Red (Douro)                Douro  \\\n",
       "Rainstorm 2013 Pinot Gris (Willamette Valley)               Oregon   \n",
       "St. Julian 2013 Reserve Late Harvest Riesling (...        Michigan   \n",
       "Sweet Cheeks 2012 Vintner's Reserve Wild Child ...          Oregon   \n",
       "Tandem 2011 Ars In Vitro Tempranillo-Merlot (Na...  Northern Spain   \n",
       "\n",
       "                                                               region_1   \n",
       "title                                                                     \n",
       "Quinta dos Avidagos 2011 Avidagos Red (Douro)                       NaN  \\\n",
       "Rainstorm 2013 Pinot Gris (Willamette Valley)         Willamette Valley   \n",
       "St. Julian 2013 Reserve Late Harvest Riesling (...  Lake Michigan Shore   \n",
       "Sweet Cheeks 2012 Vintner's Reserve Wild Child ...    Willamette Valley   \n",
       "Tandem 2011 Ars In Vitro Tempranillo-Merlot (Na...              Navarra   \n",
       "\n",
       "                                                             region_2   \n",
       "title                                                                   \n",
       "Quinta dos Avidagos 2011 Avidagos Red (Douro)                     NaN  \\\n",
       "Rainstorm 2013 Pinot Gris (Willamette Valley)       Willamette Valley   \n",
       "St. Julian 2013 Reserve Late Harvest Riesling (...                NaN   \n",
       "Sweet Cheeks 2012 Vintner's Reserve Wild Child ...  Willamette Valley   \n",
       "Tandem 2011 Ars In Vitro Tempranillo-Merlot (Na...                NaN   \n",
       "\n",
       "                                                           taster_name   \n",
       "title                                                                    \n",
       "Quinta dos Avidagos 2011 Avidagos Red (Douro)               Roger Voss  \\\n",
       "Rainstorm 2013 Pinot Gris (Willamette Valley)             Paul Gregutt   \n",
       "St. Julian 2013 Reserve Late Harvest Riesling (...  Alexander Peartree   \n",
       "Sweet Cheeks 2012 Vintner's Reserve Wild Child ...        Paul Gregutt   \n",
       "Tandem 2011 Ars In Vitro Tempranillo-Merlot (Na...   Michael Schachner   \n",
       "\n",
       "                                                   taster_twitter_handle   \n",
       "title                                                                      \n",
       "Quinta dos Avidagos 2011 Avidagos Red (Douro)                 @vossroger  \\\n",
       "Rainstorm 2013 Pinot Gris (Willamette Valley)                @paulgwine    \n",
       "St. Julian 2013 Reserve Late Harvest Riesling (...                   NaN   \n",
       "Sweet Cheeks 2012 Vintner's Reserve Wild Child ...           @paulgwine    \n",
       "Tandem 2011 Ars In Vitro Tempranillo-Merlot (Na...           @wineschach   \n",
       "\n",
       "                                                               variety   \n",
       "title                                                                    \n",
       "Quinta dos Avidagos 2011 Avidagos Red (Douro)           Portuguese Red  \\\n",
       "Rainstorm 2013 Pinot Gris (Willamette Valley)               Pinot Gris   \n",
       "St. Julian 2013 Reserve Late Harvest Riesling (...            Riesling   \n",
       "Sweet Cheeks 2012 Vintner's Reserve Wild Child ...          Pinot Noir   \n",
       "Tandem 2011 Ars In Vitro Tempranillo-Merlot (Na...  Tempranillo-Merlot   \n",
       "\n",
       "                                                                 winery   \n",
       "title                                                                     \n",
       "Quinta dos Avidagos 2011 Avidagos Red (Douro)       Quinta dos Avidagos  \\\n",
       "Rainstorm 2013 Pinot Gris (Willamette Valley)                 Rainstorm   \n",
       "St. Julian 2013 Reserve Late Harvest Riesling (...           St. Julian   \n",
       "Sweet Cheeks 2012 Vintner's Reserve Wild Child ...         Sweet Cheeks   \n",
       "Tandem 2011 Ars In Vitro Tempranillo-Merlot (Na...               Tandem   \n",
       "\n",
       "                                                      critic  \n",
       "title                                                         \n",
       "Quinta dos Avidagos 2011 Avidagos Red (Douro)       everyone  \n",
       "Rainstorm 2013 Pinot Gris (Willamette Valley)       everyone  \n",
       "St. Julian 2013 Reserve Late Harvest Riesling (...  everyone  \n",
       "Sweet Cheeks 2012 Vintner's Reserve Wild Child ...  everyone  \n",
       "Tandem 2011 Ars In Vitro Tempranillo-Merlot (Na...  everyone  "
      ]
     },
     "execution_count": 106,
     "metadata": {},
     "output_type": "execute_result"
    }
   ],
   "source": [
    "reviews['critic'] ='everyone'\n",
    "reviews.head()"
   ]
  },
  {
   "cell_type": "code",
   "execution_count": null,
   "metadata": {},
   "outputs": [],
   "source": []
  },
  {
   "cell_type": "code",
   "execution_count": null,
   "metadata": {},
   "outputs": [],
   "source": []
  },
  {
   "attachments": {},
   "cell_type": "markdown",
   "metadata": {},
   "source": [
    "리뷰의 포인트 컬럼은 수치로 되어있다. 이 컬럼의 기초통계데이터를 확인하시오. (평균, 최대 최소 등)"
   ]
  },
  {
   "cell_type": "code",
   "execution_count": 107,
   "metadata": {},
   "outputs": [
    {
     "data": {
      "text/html": [
       "<div>\n",
       "<style scoped>\n",
       "    .dataframe tbody tr th:only-of-type {\n",
       "        vertical-align: middle;\n",
       "    }\n",
       "\n",
       "    .dataframe tbody tr th {\n",
       "        vertical-align: top;\n",
       "    }\n",
       "\n",
       "    .dataframe thead th {\n",
       "        text-align: right;\n",
       "    }\n",
       "</style>\n",
       "<table border=\"1\" class=\"dataframe\">\n",
       "  <thead>\n",
       "    <tr style=\"text-align: right;\">\n",
       "      <th></th>\n",
       "      <th>points</th>\n",
       "      <th>price</th>\n",
       "    </tr>\n",
       "  </thead>\n",
       "  <tbody>\n",
       "    <tr>\n",
       "      <th>count</th>\n",
       "      <td>120975.000000</td>\n",
       "      <td>120975.000000</td>\n",
       "    </tr>\n",
       "    <tr>\n",
       "      <th>mean</th>\n",
       "      <td>88.421881</td>\n",
       "      <td>35.363389</td>\n",
       "    </tr>\n",
       "    <tr>\n",
       "      <th>std</th>\n",
       "      <td>3.044508</td>\n",
       "      <td>41.022218</td>\n",
       "    </tr>\n",
       "    <tr>\n",
       "      <th>min</th>\n",
       "      <td>80.000000</td>\n",
       "      <td>4.000000</td>\n",
       "    </tr>\n",
       "    <tr>\n",
       "      <th>25%</th>\n",
       "      <td>86.000000</td>\n",
       "      <td>17.000000</td>\n",
       "    </tr>\n",
       "    <tr>\n",
       "      <th>50%</th>\n",
       "      <td>88.000000</td>\n",
       "      <td>25.000000</td>\n",
       "    </tr>\n",
       "    <tr>\n",
       "      <th>75%</th>\n",
       "      <td>91.000000</td>\n",
       "      <td>42.000000</td>\n",
       "    </tr>\n",
       "    <tr>\n",
       "      <th>max</th>\n",
       "      <td>100.000000</td>\n",
       "      <td>3300.000000</td>\n",
       "    </tr>\n",
       "  </tbody>\n",
       "</table>\n",
       "</div>"
      ],
      "text/plain": [
       "              points          price\n",
       "count  120975.000000  120975.000000\n",
       "mean       88.421881      35.363389\n",
       "std         3.044508      41.022218\n",
       "min        80.000000       4.000000\n",
       "25%        86.000000      17.000000\n",
       "50%        88.000000      25.000000\n",
       "75%        91.000000      42.000000\n",
       "max       100.000000    3300.000000"
      ]
     },
     "execution_count": 107,
     "metadata": {},
     "output_type": "execute_result"
    }
   ],
   "source": [
    "reviews.describe()"
   ]
  },
  {
   "cell_type": "code",
   "execution_count": 81,
   "metadata": {},
   "outputs": [
    {
     "name": "stdout",
     "output_type": "stream",
     "text": [
      "88.42188055383343\n",
      "100\n",
      "80\n"
     ]
    }
   ],
   "source": [
    "# print(reviews['points'].mean())\n",
    "# print(reviews['points'].max())\n",
    "# print(reviews['points'].min())\n",
    "# 굳이 할 필요 없이 위 코드 실행.\n"
   ]
  },
  {
   "cell_type": "code",
   "execution_count": null,
   "metadata": {},
   "outputs": [],
   "source": []
  },
  {
   "attachments": {},
   "cell_type": "markdown",
   "metadata": {},
   "source": [
    "taster_name 컬럼은 사람 이름으로 되어있다. 몇명의 사람들이 평가를 한것인까?"
   ]
  },
  {
   "cell_type": "code",
   "execution_count": 82,
   "metadata": {},
   "outputs": [
    {
     "data": {
      "text/plain": [
       "96479"
      ]
     },
     "execution_count": 82,
     "metadata": {},
     "output_type": "execute_result"
    }
   ],
   "source": [
    "reviews['taster_name'].notnull().sum()"
   ]
  },
  {
   "cell_type": "code",
   "execution_count": 109,
   "metadata": {},
   "outputs": [
    {
     "data": {
      "text/plain": [
       "19"
      ]
     },
     "execution_count": 109,
     "metadata": {},
     "output_type": "execute_result"
    }
   ],
   "source": [
    "reviews['taster_name'].nunique() # 중복 없는 사람 몇명인지.(데이터 종류)"
   ]
  },
  {
   "cell_type": "code",
   "execution_count": null,
   "metadata": {},
   "outputs": [],
   "source": []
  },
  {
   "attachments": {},
   "cell_type": "markdown",
   "metadata": {},
   "source": [
    "리뷰 포인트의 평균을 구하시오"
   ]
  },
  {
   "cell_type": "code",
   "execution_count": 84,
   "metadata": {},
   "outputs": [
    {
     "data": {
      "text/plain": [
       "88.42188055383343"
      ]
     },
     "execution_count": 84,
     "metadata": {},
     "output_type": "execute_result"
    }
   ],
   "source": [
    "reviews['points'].mean()"
   ]
  },
  {
   "cell_type": "code",
   "execution_count": null,
   "metadata": {},
   "outputs": [],
   "source": []
  },
  {
   "attachments": {},
   "cell_type": "markdown",
   "metadata": {},
   "source": [
    "테스터들의 이름을 전부 확인하시오"
   ]
  },
  {
   "cell_type": "code",
   "execution_count": 95,
   "metadata": {},
   "outputs": [
    {
     "data": {
      "text/plain": [
       "array(['Roger Voss', 'Paul Gregutt', 'Alexander Peartree', ...,\n",
       "       'Roger Voss', 'Roger Voss', 'Roger Voss'], dtype=object)"
      ]
     },
     "execution_count": 95,
     "metadata": {},
     "output_type": "execute_result"
    }
   ],
   "source": [
    "reviews[reviews['taster_name'].notnull()]['taster_name'].values # 중복 허용이므로 다시."
   ]
  },
  {
   "cell_type": "code",
   "execution_count": 119,
   "metadata": {},
   "outputs": [
    {
     "data": {
      "text/plain": [
       "array(['Roger Voss', 'Paul Gregutt', 'Alexander Peartree',\n",
       "       'Michael Schachner', 'Kerin O’Keefe', 'Anna Lee C. Iijima',\n",
       "       'Virginie Boone', 'Matt Kettmann', nan, 'Sean P. Sullivan',\n",
       "       'Jim Gordon', 'Joe Czerwinski', 'Anne Krebiehl\\xa0MW',\n",
       "       'Lauren Buzzeo', 'Mike DeSimone', 'Jeff Jenssen',\n",
       "       'Susan Kostrzewa', 'Carrie Dykes', 'Fiona Adams',\n",
       "       'Christina Pickard'], dtype=object)"
      ]
     },
     "execution_count": 119,
     "metadata": {},
     "output_type": "execute_result"
    }
   ],
   "source": [
    "reviews['taster_name'].unique()"
   ]
  },
  {
   "cell_type": "code",
   "execution_count": 115,
   "metadata": {},
   "outputs": [
    {
     "data": {
      "text/plain": [
       "array(['Roger Voss', 'Paul Gregutt', 'Alexander Peartree',\n",
       "       'Michael Schachner', 'Kerin O’Keefe', 'Anna Lee C. Iijima',\n",
       "       'Virginie Boone', 'Matt Kettmann', 'Sean P. Sullivan',\n",
       "       'Jim Gordon', 'Joe Czerwinski', 'Anne Krebiehl\\xa0MW',\n",
       "       'Lauren Buzzeo', 'Mike DeSimone', 'Jeff Jenssen',\n",
       "       'Susan Kostrzewa', 'Carrie Dykes', 'Fiona Adams',\n",
       "       'Christina Pickard'], dtype=object)"
      ]
     },
     "execution_count": 115,
     "metadata": {},
     "output_type": "execute_result"
    }
   ],
   "source": [
    "reviews[reviews['taster_name'].notnull()]['taster_name'].unique() # nan을 뺀 테스터 이름 전부 배열로. # 뒤에 .size하면 수량 알 수 있음.\n",
    "# 만약 결측치가 있을 때 수량을 세려면 nunique는 결측치를 빼지만 size는 결측치도 포함함."
   ]
  },
  {
   "cell_type": "code",
   "execution_count": null,
   "metadata": {},
   "outputs": [],
   "source": []
  },
  {
   "attachments": {},
   "cell_type": "markdown",
   "metadata": {},
   "source": [
    "각 테스터들은, 각각 몇개의 와인을 테스트 했는지 확인하시오. ( 테스터 이름, 갯수 )"
   ]
  },
  {
   "cell_type": "code",
   "execution_count": 122,
   "metadata": {},
   "outputs": [
    {
     "data": {
      "text/plain": [
       "96479"
      ]
     },
     "execution_count": 122,
     "metadata": {},
     "output_type": "execute_result"
    }
   ],
   "source": [
    "reviews.groupby('taster_name')['taster_name'].count() # 묶은거에서 테스터네임 컬럼의 갯수 세기. 뒤에 .sum 붙여도 됨."
   ]
  },
  {
   "cell_type": "code",
   "execution_count": 123,
   "metadata": {},
   "outputs": [
    {
     "data": {
      "text/plain": [
       "taster_name\n",
       "Roger Voss            20172\n",
       "Michael Schachner     14951\n",
       "Kerin O’Keefe          9874\n",
       "Virginie Boone         9507\n",
       "Paul Gregutt           9498\n",
       "Matt Kettmann          6237\n",
       "Joe Czerwinski         5012\n",
       "Sean P. Sullivan       4925\n",
       "Anna Lee C. Iijima     4369\n",
       "Jim Gordon             4171\n",
       "Anne Krebiehl MW       3398\n",
       "Lauren Buzzeo          1713\n",
       "Susan Kostrzewa        1073\n",
       "Mike DeSimone           504\n",
       "Jeff Jenssen            491\n",
       "Alexander Peartree      413\n",
       "Carrie Dykes            138\n",
       "Fiona Adams              27\n",
       "Christina Pickard         6\n",
       "Name: count, dtype: int64"
      ]
     },
     "execution_count": 123,
     "metadata": {},
     "output_type": "execute_result"
    }
   ],
   "source": [
    "reviews['taster_name'].value_counts()"
   ]
  },
  {
   "cell_type": "code",
   "execution_count": null,
   "metadata": {},
   "outputs": [],
   "source": []
  },
  {
   "attachments": {},
   "cell_type": "markdown",
   "metadata": {},
   "source": [
    "리뷰의 포인트의 평균을 구하고, 리뷰의 포인트값이, 평균보다 큰 데이터 (즉, 평가가 좋은 와인) 만 가져오시오."
   ]
  },
  {
   "cell_type": "code",
   "execution_count": 125,
   "metadata": {},
   "outputs": [
    {
     "data": {
      "text/html": [
       "<div>\n",
       "<style scoped>\n",
       "    .dataframe tbody tr th:only-of-type {\n",
       "        vertical-align: middle;\n",
       "    }\n",
       "\n",
       "    .dataframe tbody tr th {\n",
       "        vertical-align: top;\n",
       "    }\n",
       "\n",
       "    .dataframe thead th {\n",
       "        text-align: right;\n",
       "    }\n",
       "</style>\n",
       "<table border=\"1\" class=\"dataframe\">\n",
       "  <thead>\n",
       "    <tr style=\"text-align: right;\">\n",
       "      <th></th>\n",
       "      <th>country</th>\n",
       "      <th>description</th>\n",
       "      <th>designation</th>\n",
       "      <th>points</th>\n",
       "      <th>price</th>\n",
       "      <th>province</th>\n",
       "      <th>region_1</th>\n",
       "      <th>region_2</th>\n",
       "      <th>taster_name</th>\n",
       "      <th>taster_twitter_handle</th>\n",
       "      <th>variety</th>\n",
       "      <th>winery</th>\n",
       "      <th>critic</th>\n",
       "    </tr>\n",
       "    <tr>\n",
       "      <th>title</th>\n",
       "      <th></th>\n",
       "      <th></th>\n",
       "      <th></th>\n",
       "      <th></th>\n",
       "      <th></th>\n",
       "      <th></th>\n",
       "      <th></th>\n",
       "      <th></th>\n",
       "      <th></th>\n",
       "      <th></th>\n",
       "      <th></th>\n",
       "      <th></th>\n",
       "      <th></th>\n",
       "    </tr>\n",
       "  </thead>\n",
       "  <tbody>\n",
       "    <tr>\n",
       "      <th>Dopff &amp; Irion 2004 Schoenenbourg Grand Cru Vendanges Tardives Riesling (Alsace)</th>\n",
       "      <td>France</td>\n",
       "      <td>Medium-gold in color. Complex and inviting nos...</td>\n",
       "      <td>Schoenenbourg Grand Cru Vendanges Tardives</td>\n",
       "      <td>92</td>\n",
       "      <td>80.0</td>\n",
       "      <td>Alsace</td>\n",
       "      <td>Alsace</td>\n",
       "      <td>NaN</td>\n",
       "      <td>NaN</td>\n",
       "      <td>NaN</td>\n",
       "      <td>Riesling</td>\n",
       "      <td>Dopff &amp; Irion</td>\n",
       "      <td>everyone</td>\n",
       "    </tr>\n",
       "    <tr>\n",
       "      <th>Ceretto 2003 Bricco Rocche Prapó  (Barolo)</th>\n",
       "      <td>Italy</td>\n",
       "      <td>Slightly backward, particularly given the vint...</td>\n",
       "      <td>Bricco Rocche Prapó</td>\n",
       "      <td>92</td>\n",
       "      <td>70.0</td>\n",
       "      <td>Piedmont</td>\n",
       "      <td>Barolo</td>\n",
       "      <td>NaN</td>\n",
       "      <td>NaN</td>\n",
       "      <td>NaN</td>\n",
       "      <td>Nebbiolo</td>\n",
       "      <td>Ceretto</td>\n",
       "      <td>everyone</td>\n",
       "    </tr>\n",
       "    <tr>\n",
       "      <th>Matrix 2007 Stuhlmuller Vineyard Chardonnay (Alexander Valley)</th>\n",
       "      <td>US</td>\n",
       "      <td>The vineyard is one of the better Chardonnay s...</td>\n",
       "      <td>Stuhlmuller Vineyard</td>\n",
       "      <td>92</td>\n",
       "      <td>36.0</td>\n",
       "      <td>California</td>\n",
       "      <td>Alexander Valley</td>\n",
       "      <td>Sonoma</td>\n",
       "      <td>NaN</td>\n",
       "      <td>NaN</td>\n",
       "      <td>Chardonnay</td>\n",
       "      <td>Matrix</td>\n",
       "      <td>everyone</td>\n",
       "    </tr>\n",
       "    <tr>\n",
       "      <th>Mauritson 2007 Rockpile Cemetary Vineyard Zinfandel (Rockpile)</th>\n",
       "      <td>US</td>\n",
       "      <td>Defines Rockpile Zinfandel in intensity of fru...</td>\n",
       "      <td>Rockpile Cemetary Vineyard</td>\n",
       "      <td>92</td>\n",
       "      <td>39.0</td>\n",
       "      <td>California</td>\n",
       "      <td>Rockpile</td>\n",
       "      <td>Sonoma</td>\n",
       "      <td>NaN</td>\n",
       "      <td>NaN</td>\n",
       "      <td>Zinfandel</td>\n",
       "      <td>Mauritson</td>\n",
       "      <td>everyone</td>\n",
       "    </tr>\n",
       "    <tr>\n",
       "      <th>Henry's Drive Vignerons 2006 Parson's Flat Shiraz-Cabernet Sauvignon (Padthaway)</th>\n",
       "      <td>Australia</td>\n",
       "      <td>The blend is roughly two-thirds Shiraz and one...</td>\n",
       "      <td>Parson's Flat</td>\n",
       "      <td>92</td>\n",
       "      <td>40.0</td>\n",
       "      <td>South Australia</td>\n",
       "      <td>Padthaway</td>\n",
       "      <td>NaN</td>\n",
       "      <td>Joe Czerwinski</td>\n",
       "      <td>@JoeCz</td>\n",
       "      <td>Shiraz-Cabernet Sauvignon</td>\n",
       "      <td>Henry's Drive Vignerons</td>\n",
       "      <td>everyone</td>\n",
       "    </tr>\n",
       "  </tbody>\n",
       "</table>\n",
       "</div>"
      ],
      "text/plain": [
       "                                                      country   \n",
       "title                                                           \n",
       "Dopff & Irion 2004 Schoenenbourg Grand Cru Vend...     France  \\\n",
       "Ceretto 2003 Bricco Rocche Prapó  (Barolo)              Italy   \n",
       "Matrix 2007 Stuhlmuller Vineyard Chardonnay (Al...         US   \n",
       "Mauritson 2007 Rockpile Cemetary Vineyard Zinfa...         US   \n",
       "Henry's Drive Vignerons 2006 Parson's Flat Shir...  Australia   \n",
       "\n",
       "                                                                                          description   \n",
       "title                                                                                                   \n",
       "Dopff & Irion 2004 Schoenenbourg Grand Cru Vend...  Medium-gold in color. Complex and inviting nos...  \\\n",
       "Ceretto 2003 Bricco Rocche Prapó  (Barolo)          Slightly backward, particularly given the vint...   \n",
       "Matrix 2007 Stuhlmuller Vineyard Chardonnay (Al...  The vineyard is one of the better Chardonnay s...   \n",
       "Mauritson 2007 Rockpile Cemetary Vineyard Zinfa...  Defines Rockpile Zinfandel in intensity of fru...   \n",
       "Henry's Drive Vignerons 2006 Parson's Flat Shir...  The blend is roughly two-thirds Shiraz and one...   \n",
       "\n",
       "                                                                                   designation   \n",
       "title                                                                                            \n",
       "Dopff & Irion 2004 Schoenenbourg Grand Cru Vend...  Schoenenbourg Grand Cru Vendanges Tardives  \\\n",
       "Ceretto 2003 Bricco Rocche Prapó  (Barolo)                                 Bricco Rocche Prapó   \n",
       "Matrix 2007 Stuhlmuller Vineyard Chardonnay (Al...                        Stuhlmuller Vineyard   \n",
       "Mauritson 2007 Rockpile Cemetary Vineyard Zinfa...                  Rockpile Cemetary Vineyard   \n",
       "Henry's Drive Vignerons 2006 Parson's Flat Shir...                               Parson's Flat   \n",
       "\n",
       "                                                    points  price   \n",
       "title                                                               \n",
       "Dopff & Irion 2004 Schoenenbourg Grand Cru Vend...      92   80.0  \\\n",
       "Ceretto 2003 Bricco Rocche Prapó  (Barolo)              92   70.0   \n",
       "Matrix 2007 Stuhlmuller Vineyard Chardonnay (Al...      92   36.0   \n",
       "Mauritson 2007 Rockpile Cemetary Vineyard Zinfa...      92   39.0   \n",
       "Henry's Drive Vignerons 2006 Parson's Flat Shir...      92   40.0   \n",
       "\n",
       "                                                           province   \n",
       "title                                                                 \n",
       "Dopff & Irion 2004 Schoenenbourg Grand Cru Vend...           Alsace  \\\n",
       "Ceretto 2003 Bricco Rocche Prapó  (Barolo)                 Piedmont   \n",
       "Matrix 2007 Stuhlmuller Vineyard Chardonnay (Al...       California   \n",
       "Mauritson 2007 Rockpile Cemetary Vineyard Zinfa...       California   \n",
       "Henry's Drive Vignerons 2006 Parson's Flat Shir...  South Australia   \n",
       "\n",
       "                                                            region_1 region_2   \n",
       "title                                                                           \n",
       "Dopff & Irion 2004 Schoenenbourg Grand Cru Vend...            Alsace      NaN  \\\n",
       "Ceretto 2003 Bricco Rocche Prapó  (Barolo)                    Barolo      NaN   \n",
       "Matrix 2007 Stuhlmuller Vineyard Chardonnay (Al...  Alexander Valley   Sonoma   \n",
       "Mauritson 2007 Rockpile Cemetary Vineyard Zinfa...          Rockpile   Sonoma   \n",
       "Henry's Drive Vignerons 2006 Parson's Flat Shir...         Padthaway      NaN   \n",
       "\n",
       "                                                       taster_name   \n",
       "title                                                                \n",
       "Dopff & Irion 2004 Schoenenbourg Grand Cru Vend...             NaN  \\\n",
       "Ceretto 2003 Bricco Rocche Prapó  (Barolo)                     NaN   \n",
       "Matrix 2007 Stuhlmuller Vineyard Chardonnay (Al...             NaN   \n",
       "Mauritson 2007 Rockpile Cemetary Vineyard Zinfa...             NaN   \n",
       "Henry's Drive Vignerons 2006 Parson's Flat Shir...  Joe Czerwinski   \n",
       "\n",
       "                                                   taster_twitter_handle   \n",
       "title                                                                      \n",
       "Dopff & Irion 2004 Schoenenbourg Grand Cru Vend...                   NaN  \\\n",
       "Ceretto 2003 Bricco Rocche Prapó  (Barolo)                           NaN   \n",
       "Matrix 2007 Stuhlmuller Vineyard Chardonnay (Al...                   NaN   \n",
       "Mauritson 2007 Rockpile Cemetary Vineyard Zinfa...                   NaN   \n",
       "Henry's Drive Vignerons 2006 Parson's Flat Shir...                @JoeCz   \n",
       "\n",
       "                                                                      variety   \n",
       "title                                                                           \n",
       "Dopff & Irion 2004 Schoenenbourg Grand Cru Vend...                   Riesling  \\\n",
       "Ceretto 2003 Bricco Rocche Prapó  (Barolo)                           Nebbiolo   \n",
       "Matrix 2007 Stuhlmuller Vineyard Chardonnay (Al...                 Chardonnay   \n",
       "Mauritson 2007 Rockpile Cemetary Vineyard Zinfa...                  Zinfandel   \n",
       "Henry's Drive Vignerons 2006 Parson's Flat Shir...  Shiraz-Cabernet Sauvignon   \n",
       "\n",
       "                                                                     winery   \n",
       "title                                                                         \n",
       "Dopff & Irion 2004 Schoenenbourg Grand Cru Vend...            Dopff & Irion  \\\n",
       "Ceretto 2003 Bricco Rocche Prapó  (Barolo)                          Ceretto   \n",
       "Matrix 2007 Stuhlmuller Vineyard Chardonnay (Al...                   Matrix   \n",
       "Mauritson 2007 Rockpile Cemetary Vineyard Zinfa...                Mauritson   \n",
       "Henry's Drive Vignerons 2006 Parson's Flat Shir...  Henry's Drive Vignerons   \n",
       "\n",
       "                                                      critic  \n",
       "title                                                         \n",
       "Dopff & Irion 2004 Schoenenbourg Grand Cru Vend...  everyone  \n",
       "Ceretto 2003 Bricco Rocche Prapó  (Barolo)          everyone  \n",
       "Matrix 2007 Stuhlmuller Vineyard Chardonnay (Al...  everyone  \n",
       "Mauritson 2007 Rockpile Cemetary Vineyard Zinfa...  everyone  \n",
       "Henry's Drive Vignerons 2006 Parson's Flat Shir...  everyone  "
      ]
     },
     "execution_count": 125,
     "metadata": {},
     "output_type": "execute_result"
    }
   ],
   "source": [
    "reviews[reviews['points'] > reviews['points'].mean()].head()"
   ]
  },
  {
   "cell_type": "code",
   "execution_count": null,
   "metadata": {},
   "outputs": [],
   "source": []
  },
  {
   "cell_type": "code",
   "execution_count": null,
   "metadata": {},
   "outputs": [],
   "source": []
  },
  {
   "cell_type": "code",
   "execution_count": null,
   "metadata": {},
   "outputs": [],
   "source": []
  },
  {
   "cell_type": "code",
   "execution_count": null,
   "metadata": {},
   "outputs": [],
   "source": []
  }
 ],
 "metadata": {
  "kernelspec": {
   "display_name": "Python 3",
   "language": "python",
   "name": "python3"
  },
  "language_info": {
   "codemirror_mode": {
    "name": "ipython",
    "version": 3
   },
   "file_extension": ".py",
   "mimetype": "text/x-python",
   "name": "python",
   "nbconvert_exporter": "python",
   "pygments_lexer": "ipython3",
   "version": "3.9.13"
  }
 },
 "nbformat": 4,
 "nbformat_minor": 2
}
