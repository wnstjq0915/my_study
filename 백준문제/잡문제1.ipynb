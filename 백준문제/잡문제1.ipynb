{
 "cells": [
  {
   "cell_type": "markdown",
   "metadata": {},
   "source": [
    "# ipynb에서는 \\n의 입력이 테스트가 안 됨"
   ]
  },
  {
   "cell_type": "code",
   "execution_count": null,
   "metadata": {},
   "outputs": [],
   "source": [
    "# 2562\n",
    "li = [int(input()) for i in range(9)]\n",
    "mx = max(li)\n",
    "print(mx)\n",
    "print(li.index(mx)+1)"
   ]
  },
  {
   "cell_type": "code",
   "execution_count": null,
   "metadata": {},
   "outputs": [],
   "source": [
    "# 2577\n",
    "a, b, c = [int(input()) for i in range(3)]\n",
    "str_num = str(a*b*c)\n",
    "for i in range(10):\n",
    "    print(str_num.count(str(i)))"
   ]
  },
  {
   "cell_type": "code",
   "execution_count": null,
   "metadata": {},
   "outputs": [],
   "source": [
    "# 2675\n",
    "for i in range(int(input())):\n",
    "    num, code = input().split()\n",
    "    num = int(num)\n",
    "    for i in code:\n",
    "        print(i*num, end='')\n",
    "    print()"
   ]
  },
  {
   "cell_type": "code",
   "execution_count": null,
   "metadata": {},
   "outputs": [],
   "source": [
    "# 2753\n",
    "year = int(input())\n",
    "print(1 if year % 400 == 0 or year % 4 == 0 and year % 100 != 0 else 0)"
   ]
  },
  {
   "cell_type": "code",
   "execution_count": null,
   "metadata": {},
   "outputs": [],
   "source": [
    "# 10818\n",
    "input()\n",
    "num_li = list(map(int, input().split()))\n",
    "print(f\"{min(num_li)} {max(num_li)}\")"
   ]
  },
  {
   "cell_type": "code",
   "execution_count": null,
   "metadata": {},
   "outputs": [],
   "source": [
    "# 10869\n",
    "a, b = map(int, input().split())\n",
    "print(a+b)\n",
    "print(a-b)\n",
    "print(a*b)\n",
    "print(a//b)\n",
    "print(a%b)"
   ]
  },
  {
   "cell_type": "code",
   "execution_count": null,
   "metadata": {},
   "outputs": [],
   "source": [
    "# 10950\n",
    "for i in range(int(input())):\n",
    "    a, b = map(int, input().split())\n",
    "    print(a+b)"
   ]
  },
  {
   "cell_type": "code",
   "execution_count": null,
   "metadata": {},
   "outputs": [],
   "source": [
    "# 10951\n",
    "# 얼마나 입력 받을지 주어지지 않음\n",
    "while True:\n",
    "    try:\n",
    "        a, b = map(int, input().split())\n",
    "        print(a+b)\n",
    "    except:\n",
    "        break"
   ]
  },
  {
   "cell_type": "code",
   "execution_count": 6,
   "metadata": {},
   "outputs": [
    {
     "name": "stdout",
     "output_type": "stream",
     "text": [
      "{1}\n",
      "{1, 2}\n"
     ]
    }
   ],
   "source": [
    "test = set()\n",
    "test.add(1)\n",
    "print(test)\n",
    "\n",
    "test.update({2})\n",
    "print(test)"
   ]
  },
  {
   "cell_type": "code",
   "execution_count": 7,
   "metadata": {},
   "outputs": [
    {
     "name": "stdout",
     "output_type": "stream",
     "text": [
      "{2}\n"
     ]
    }
   ],
   "source": [
    "test = {1, 2}\n",
    "test2 = test - {1}\n",
    "print(test2)"
   ]
  },
  {
   "cell_type": "code",
   "execution_count": 9,
   "metadata": {},
   "outputs": [
    {
     "name": "stdout",
     "output_type": "stream",
     "text": [
      "2 3\n"
     ]
    }
   ],
   "source": [
    "li = [1, 2, 3]\n",
    "a, b = li[1:]\n",
    "print(a, b)"
   ]
  },
  {
   "cell_type": "code",
   "execution_count": 11,
   "metadata": {},
   "outputs": [
    {
     "name": "stdout",
     "output_type": "stream",
     "text": [
      "3\n"
     ]
    }
   ],
   "source": [
    "# 2839\n",
    "num = int(input())\n",
    "def question(num):\n",
    "    result = 0\n",
    "    while num % 10 not in [0, 5]:\n",
    "        num -= 3\n",
    "        result += 1\n",
    "        if num < 0:\n",
    "            return -1\n",
    "    return result + num // 5\n",
    "print(question(num))"
   ]
  },
  {
   "cell_type": "code",
   "execution_count": 32,
   "metadata": {},
   "outputs": [
    {
     "name": "stdout",
     "output_type": "stream",
     "text": [
      "7\n"
     ]
    }
   ],
   "source": [
    "# 1463\n",
    "def check_two_square(num):\n",
    "    while num != 1:\n",
    "        if num % 2 == 1:\n",
    "            return False\n",
    "        num //= 2\n",
    "    return True\n",
    "\n",
    "num = int(input())\n",
    "result = 0\n",
    "while num != 1:\n",
    "    if num % 3 == 0:\n",
    "        num //= 3\n",
    "    elif num % 3 == 2 and num % 2 == 0:\n",
    "        num //= 2\n",
    "    else:\n",
    "        num -= 1\n",
    "    result += 1\n",
    "print(result)\n",
    "# 16 예외.\n",
    "# -1뒤에 3으로 나눌 경우 연산2+1/3\n",
    "# 2로 두번 연속 나눌 경우 연산2+1/4\n",
    "\n",
    "# -1 /3 -1 /3 하는 것보다 /2 /2 /2 /2가 훨씬 효율적임.\n",
    "# ex 100.\n",
    "\n",
    "# 고려해서 다시 짜기"
   ]
  }
 ],
 "metadata": {
  "kernelspec": {
   "display_name": "Python 3",
   "language": "python",
   "name": "python3"
  },
  "language_info": {
   "codemirror_mode": {
    "name": "ipython",
    "version": 3
   },
   "file_extension": ".py",
   "mimetype": "text/x-python",
   "name": "python",
   "nbconvert_exporter": "python",
   "pygments_lexer": "ipython3",
   "version": "3.9.13"
  }
 },
 "nbformat": 4,
 "nbformat_minor": 2
}
