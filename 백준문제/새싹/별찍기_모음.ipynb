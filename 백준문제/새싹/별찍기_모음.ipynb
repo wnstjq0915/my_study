{
 "cells": [
  {
   "cell_type": "code",
   "execution_count": null,
   "metadata": {},
   "outputs": [],
   "source": [
    "\"\"\"\n",
    "*로 입력한 숫자만큼의 높이의\n",
    "오른쪽으로 기울어진 직각삼각형 그리기\n",
    "\"\"\"\n",
    "[print('*' * i) for i in range(1, int(input())+1)]"
   ]
  },
  {
   "cell_type": "code",
   "execution_count": null,
   "metadata": {},
   "outputs": [],
   "source": [
    "\"\"\"브4\n",
    "*로 입력한 숫자만큼의 높이의\n",
    "왼쪽으로 기울어진 직각삼각형 그리기\n",
    "\"\"\"\n",
    "num = int(input())\n",
    "[print(' '*(num-i)+'*'*i) for i in range(1, num+1)]"
   ]
  }
 ],
 "metadata": {
  "kernelspec": {
   "display_name": "Python 3",
   "language": "python",
   "name": "python3"
  },
  "language_info": {
   "codemirror_mode": {
    "name": "ipython",
    "version": 3
   },
   "file_extension": ".py",
   "mimetype": "text/x-python",
   "name": "python",
   "nbconvert_exporter": "python",
   "pygments_lexer": "ipython3",
   "version": "3.9.13"
  }
 },
 "nbformat": 4,
 "nbformat_minor": 2
}
