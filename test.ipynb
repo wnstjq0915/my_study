{
 "cells": [
  {
   "cell_type": "code",
   "execution_count": 17,
   "metadata": {},
   "outputs": [],
   "source": [
    "a = [\"muzi\", \"frodo\", \"apeach\", \"neo\"]\n",
    "b = [\"muzi frodo\",\"apeach frodo\",\"frodo neo\",\"muzi neo\",\"apeach muzi\"]\n",
    "c = 2"
   ]
  },
  {
   "cell_type": "code",
   "execution_count": 8,
   "metadata": {},
   "outputs": [
    {
     "name": "stdout",
     "output_type": "stream",
     "text": [
      "[['apeach', 'muzi'], ['muzi', 'frodo'], ['apeach', 'frodo'], ['frodo', 'neo'], ['muzi', 'neo']]\n"
     ]
    }
   ],
   "source": [
    "def solution(id_list, report): # 람다 이용\n",
    "    report1 = list(set(report)) # 중복제거\n",
    "    report = list(map(lambda x : x.split(' '), report1))\n",
    "    ans_dict = {}\n",
    "    for i in id_list:\n",
    "        ans_dict[i] = list(map(int, list('0' * (len(id_list) + 1))))\n",
    "    print(report)\n",
    "solution(a, b)"
   ]
  },
  {
   "cell_type": "code",
   "execution_count": 9,
   "metadata": {},
   "outputs": [
    {
     "name": "stdout",
     "output_type": "stream",
     "text": [
      "[['apeach', 'muzi'], ['muzi', 'frodo'], ['apeach', 'frodo'], ['frodo', 'neo'], ['muzi', 'neo']]\n"
     ]
    }
   ],
   "source": [
    "def solution(id_list, report): # for문 이용 map이 있어서인지 더 빠름\n",
    "    report1 = list(set(report)) # 중복제거\n",
    "    report = [list(i.split()) for i in report1]\n",
    "    ans_dict = {}\n",
    "    for i in id_list:\n",
    "        ans_dict[i] = list(map(int, list('0' * (len(id_list) + 1))))\n",
    "    print(report)\n",
    "solution(a, b)"
   ]
  },
  {
   "cell_type": "code",
   "execution_count": 20,
   "metadata": {},
   "outputs": [
    {
     "name": "stdout",
     "output_type": "stream",
     "text": [
      "[2, 1, 1, 0]\n"
     ]
    }
   ],
   "source": [
    "def solution(id_list, report, k):\n",
    "    report = list(set(report)) # 중복제거\n",
    "    report = [list(i.split()) for i in report] # [['신고한', '신고당한']]\n",
    "    id_dict = {i : [0, 0] for i in id_list} # 뒤에는 메일 받을 숫자\n",
    "    for i, j in report:\n",
    "        id_dict[i].append(j)\n",
    "        id_dict[j][0] += 1\n",
    "    stop_id = [i for i in id_dict.keys() if id_dict[i][0] >= k]\n",
    "    for i in stop_id:\n",
    "        for j in id_list:\n",
    "            id_dict[j][1] += id_dict[j].count(i)\n",
    "    return [i[1] for i in id_dict.values()]\n",
    "print(solution(a, b, c))"
   ]
  },
  {
   "cell_type": "code",
   "execution_count": 11,
   "metadata": {},
   "outputs": [
    {
     "name": "stdout",
     "output_type": "stream",
     "text": [
      "hi\n",
      "bye\n"
     ]
    }
   ],
   "source": [
    "a = {1:'hi', \n",
    "    2: 'bye'\n",
    "    }\n",
    "for i in a.values():\n",
    "    print(i)"
   ]
  },
  {
   "cell_type": "code",
   "execution_count": 12,
   "metadata": {},
   "outputs": [
    {
     "name": "stdout",
     "output_type": "stream",
     "text": [
      "[0, 1, 2, 3]\n"
     ]
    }
   ],
   "source": [
    "a = [0, 1, 2, 3, 4]\n",
    "print(a[:-1])"
   ]
  },
  {
   "cell_type": "code",
   "execution_count": 13,
   "metadata": {},
   "outputs": [
    {
     "name": "stdout",
     "output_type": "stream",
     "text": [
      "[1, '2']\n"
     ]
    }
   ],
   "source": [
    "a = [1, '2']\n",
    "print(a)"
   ]
  },
  {
   "cell_type": "code",
   "execution_count": 14,
   "metadata": {},
   "outputs": [
    {
     "name": "stdout",
     "output_type": "stream",
     "text": [
      "[0, 1, 2, 3]\n"
     ]
    }
   ],
   "source": [
    "a = [0, 1, 2, 3, 4]\n",
    "print(a[:-1])"
   ]
  },
  {
   "cell_type": "code",
   "execution_count": 21,
   "metadata": {},
   "outputs": [
    {
     "name": "stdout",
     "output_type": "stream",
     "text": [
      "[0, 0, 0, 0, 0]\n"
     ]
    }
   ],
   "source": [
    "a = [0] * 5\n",
    "print(a)"
   ]
  },
  {
   "cell_type": "code",
   "execution_count": 2,
   "metadata": {},
   "outputs": [
    {
     "name": "stdout",
     "output_type": "stream",
     "text": [
      "5\n"
     ]
    }
   ],
   "source": [
    "print(len([i for i in range(5)]))"
   ]
  },
  {
   "cell_type": "code",
   "execution_count": 4,
   "metadata": {},
   "outputs": [
    {
     "name": "stdout",
     "output_type": "stream",
     "text": [
      "hi\n"
     ]
    }
   ],
   "source": [
    "a = 2\n",
    "if a:\n",
    "    print('hi')"
   ]
  },
  {
   "cell_type": "code",
   "execution_count": 20,
   "metadata": {},
   "outputs": [
    {
     "data": {
      "text/plain": [
       "['0', '1', '2', '3', '4', '6', '5', '7', '8', '9']"
      ]
     },
     "execution_count": 20,
     "metadata": {},
     "output_type": "execute_result"
    }
   ],
   "source": [
    "a = '0123456789'\n",
    "a[6:4:-1]\n",
    "# a[5:8] = a[1:4] # 문자열은 뮤터블 값이라 값을 못 바꿈.\n",
    "a = list(a)\n",
    "a[5:7] = a[6:4:-1]\n",
    "a"
   ]
  }
 ],
 "metadata": {
  "kernelspec": {
   "display_name": "Python 3",
   "language": "python",
   "name": "python3"
  },
  "language_info": {
   "codemirror_mode": {
    "name": "ipython",
    "version": 3
   },
   "file_extension": ".py",
   "mimetype": "text/x-python",
   "name": "python",
   "nbconvert_exporter": "python",
   "pygments_lexer": "ipython3",
   "version": "3.9.13"
  },
  "orig_nbformat": 4
 },
 "nbformat": 4,
 "nbformat_minor": 2
}
